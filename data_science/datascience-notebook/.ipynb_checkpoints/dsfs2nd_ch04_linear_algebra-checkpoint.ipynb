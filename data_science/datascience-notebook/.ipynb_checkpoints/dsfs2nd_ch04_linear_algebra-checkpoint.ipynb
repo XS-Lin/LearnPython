{
 "cells": [
  {
   "cell_type": "code",
   "execution_count": 4,
   "id": "caa3b6f8-3b63-4cc0-a837-385f5042fac5",
   "metadata": {},
   "outputs": [],
   "source": [
    "from typing import List\n",
    "Vector = List[float]\n",
    "def add(v: Vector, w: Vector) -> Vector:\n",
    "    assert len(v) == len(w), \"vectors must be the same length\"\n",
    "    return [v_i + w_i for v_i, w_i in zip(v,w)]\n",
    "assert add([1,2,3],[4,5,6]) == [5,7,9]"
   ]
  },
  {
   "cell_type": "code",
   "execution_count": 17,
   "id": "c0a646cf-ef0e-4e61-8002-d81af930e941",
   "metadata": {},
   "outputs": [],
   "source": [
    "def subtract(v: Vector, w: Vector) -> Vector:\n",
    "    assert len(v) == len(w), \"vectors must be the same length\"\n",
    "    return [v_i - w_i for v_i, w_i in zip(v,w)]\n",
    "assert subtract([5,7,9],[1,2,3]) == [4,5,6]"
   ]
  },
  {
   "cell_type": "code",
   "execution_count": 11,
   "id": "d996d73b-bb5e-4694-95a8-e4bf3a4aa029",
   "metadata": {},
   "outputs": [],
   "source": [
    "def vector_sum(vectors: List[Vector]) -> Vector:\n",
    "    assert vectors, \"no vectors provided!\"\n",
    "    num_elements = len(vectors[0])\n",
    "    assert all(len(v) == num_elements for v in vectors), \"diffent sizes!\"\n",
    "    return [sum(vector[i] for vector in vectors) \n",
    "            for i in range(num_elements)]\n",
    "assert vector_sum([[1,2],[3,4],[5,6],[7,8]]) == [16,20]"
   ]
  },
  {
   "cell_type": "code",
   "execution_count": 12,
   "id": "bc0cd0c2-044b-49ad-8db7-6f703a6ca263",
   "metadata": {},
   "outputs": [],
   "source": [
    "def scalar_multiply(c: float, v: Vector) -> Vector:\n",
    "    return [c * v_i for v_i in v]\n",
    "assert scalar_multiply(2, [1,2,3]) == [2,4,6]"
   ]
  },
  {
   "cell_type": "code",
   "execution_count": 13,
   "id": "3ced92c2-e1d4-4783-85a7-cfccb409c3ff",
   "metadata": {},
   "outputs": [],
   "source": [
    "def vector_mean(vectors: List[Vector]) -> Vector:\n",
    "    n = len(vectors)\n",
    "    return scalar_multiply(1/n, vector_sum(vectors))\n",
    "assert vector_mean([[1,2],[3,4],[5,6]]) == [3,4]"
   ]
  },
  {
   "cell_type": "code",
   "execution_count": 14,
   "id": "0763175c-a50a-4b4a-9b50-d1505f7b9e9b",
   "metadata": {},
   "outputs": [],
   "source": [
    "def dot(v: Vector, w: Vector) -> float:\n",
    "    assert len(v) == len(w), \"vectors must be same length\"\n",
    "    return sum(v_i * w_i for v_i, w_i in zip(v, w))\n",
    "assert dot([1,2,3],[4,5,6]) == 32"
   ]
  },
  {
   "cell_type": "code",
   "execution_count": 15,
   "id": "5b0448ac-3d57-4a88-939b-b57d2ba05788",
   "metadata": {},
   "outputs": [],
   "source": [
    "def sum_of_squares(v: Vector) -> float:\n",
    "    return dot(v,v)\n",
    "assert sum_of_squares([1,2,3]) == 14"
   ]
  },
  {
   "cell_type": "code",
   "execution_count": 16,
   "id": "0af5b5b8-661f-4251-b7b3-354edd7baaee",
   "metadata": {},
   "outputs": [],
   "source": [
    "import math\n",
    "def magnitude(v: Vector) -> float:\n",
    "    return math.sqrt(sum_of_squares(v))\n",
    "assert magnitude([3,4]) == 5"
   ]
  },
  {
   "cell_type": "code",
   "execution_count": 22,
   "id": "9ab2da2a-37e4-46f5-82db-e1c31e1230c1",
   "metadata": {},
   "outputs": [],
   "source": [
    "def squared_distance(v: Vector,w: Vector) -> float:\n",
    "    return sum_of_squares(subtract(v, w))\n",
    "assert squared_distance([1,2],[3,4]) == 8"
   ]
  },
  {
   "cell_type": "code",
   "execution_count": 20,
   "id": "5b5e767a-5bce-4a19-80aa-55fd779a66b4",
   "metadata": {},
   "outputs": [],
   "source": [
    "def distance(v: Vector, w: Vector) -> float:\n",
    "    return math.sqrt(squared_distance(v, w))"
   ]
  },
  {
   "cell_type": "code",
   "execution_count": 19,
   "id": "8efa4de0-8935-4333-a76f-28f431b29279",
   "metadata": {},
   "outputs": [],
   "source": [
    "def distance(v: Vector, w: Vector) -> float:\n",
    "    return magnitude(subtract(v, w))"
   ]
  },
  {
   "cell_type": "code",
   "execution_count": 23,
   "id": "11b6f346-9a1d-4a71-a5b7-190abe812207",
   "metadata": {},
   "outputs": [],
   "source": [
    "from typing import Tuple\n",
    "Matrix = List[List[float]]\n",
    "\n",
    "def shape(A: Matrix) -> Tuple[int, int]:\n",
    "    num_rows = len(A)\n",
    "    num_cols = len(A[0]) if A else 0\n",
    "    return num_rows,num_cols\n",
    "assert shape([[1,2,3],[4,5,6]]) == (2,3)"
   ]
  },
  {
   "cell_type": "code",
   "execution_count": 24,
   "id": "b68361e4-a6e2-48e7-8650-d2910301f868",
   "metadata": {},
   "outputs": [],
   "source": [
    "def get_row(A: Matrix, i: int) -> Vector:\n",
    "    return A[i]\n",
    "def get_column(A: Matrix, j: int) -> Vector:\n",
    "    return [A_i[j] for A_i in A]\n",
    "assert get_row([[1,2,3],[4,5,6]],1) == [4,5,6]\n",
    "assert get_column([[1,2,3],[4,5,6]],1) == [2,5]"
   ]
  },
  {
   "cell_type": "code",
   "execution_count": 26,
   "id": "d40d7c1c-8f66-4c34-bd54-3058a9b159a5",
   "metadata": {},
   "outputs": [],
   "source": [
    "from typing import Callable\n",
    "def make_matrix(num_rows: int, \n",
    "                num_cols: int, \n",
    "                entry_fn: Callable[[int,int],float]) -> Matrix:\n",
    "    return [[entry_fn(i,j) \n",
    "             for j in range(num_cols)]\n",
    "           for i in range(num_rows)]\n",
    "def identity_matrix(n: int) -> Matrix:\n",
    "    return make_matrix(n,n, lambda i,j: 1 if i == j else 0)\n",
    "\n",
    "assert identity_matrix(4) == [[1,0,0,0],\n",
    "                              [0,1,0,0],\n",
    "                              [0,0,1,0],\n",
    "                              [0,0,0,1]]"
   ]
  },
  {
   "cell_type": "code",
   "execution_count": null,
   "id": "69a96bf1-6c27-4a87-a091-976754afae83",
   "metadata": {},
   "outputs": [],
   "source": []
  }
 ],
 "metadata": {
  "kernelspec": {
   "display_name": "Python 3 (ipykernel)",
   "language": "python",
   "name": "python3"
  },
  "language_info": {
   "codemirror_mode": {
    "name": "ipython",
    "version": 3
   },
   "file_extension": ".py",
   "mimetype": "text/x-python",
   "name": "python",
   "nbconvert_exporter": "python",
   "pygments_lexer": "ipython3",
   "version": "3.9.10"
  }
 },
 "nbformat": 4,
 "nbformat_minor": 5
}
