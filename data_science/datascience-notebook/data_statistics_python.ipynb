{
 "cells": [
  {
   "cell_type": "code",
   "execution_count": 1,
   "id": "b9d472f5-1a96-4a28-b32a-3581b02bc8bf",
   "metadata": {},
   "outputs": [
    {
     "data": {
      "text/plain": [
       "'%.3f'"
      ]
     },
     "execution_count": 1,
     "metadata": {},
     "output_type": "execute_result"
    }
   ],
   "source": [
    "import numpy as np\n",
    "import pandas as pd\n",
    "import scipy as sp\n",
    "from scipy import stats\n",
    "from matplotlib import pyplot as plt\n",
    "import seaborn as sns\n",
    "sns.set()\n",
    "%precision 3"
   ]
  },
  {
   "cell_type": "code",
   "execution_count": 2,
   "id": "81d8efa6-ff3c-43ea-b254-3c51731adcb9",
   "metadata": {},
   "outputs": [],
   "source": [
    "fish = pd.read_csv(\"./data/01/3-7-1-fish_length.csv\")[\"length\"]"
   ]
  },
  {
   "cell_type": "code",
   "execution_count": 5,
   "id": "b50da9c2-47ab-49df-8799-8bab461ce114",
   "metadata": {},
   "outputs": [
    {
     "data": {
      "text/plain": [
       "4.187"
      ]
     },
     "execution_count": 5,
     "metadata": {},
     "output_type": "execute_result"
    }
   ],
   "source": [
    "mu = np.mean(fish)\n",
    "mu"
   ]
  },
  {
   "cell_type": "code",
   "execution_count": 8,
   "id": "6c6e4f93-80d8-45f2-9136-6b9f430f6575",
   "metadata": {},
   "outputs": [
    {
     "data": {
      "text/plain": [
       "0.680"
      ]
     },
     "execution_count": 8,
     "metadata": {},
     "output_type": "execute_result"
    }
   ],
   "source": [
    "sigma_2 = np.var(fish,ddof=1)\n",
    "sigma_2"
   ]
  },
  {
   "cell_type": "code",
   "execution_count": 10,
   "id": "5554ff26-e541-43cc-988a-d57e356f6655",
   "metadata": {},
   "outputs": [
    {
     "name": "stderr",
     "output_type": "stream",
     "text": [
      "/tmp/ipykernel_7485/3165159393.py:2: DeprecationWarning: scipy.sqrt is deprecated and will be removed in SciPy 2.0.0, use numpy.lib.scimath.sqrt instead\n",
      "  se = sp.sqrt(sigma_2 / len(fish))\n"
     ]
    },
    {
     "data": {
      "text/plain": [
       "0.261"
      ]
     },
     "execution_count": 10,
     "metadata": {},
     "output_type": "execute_result"
    }
   ],
   "source": [
    "df = len(fish) - 1\n",
    "se = sp.sqrt(sigma_2 / len(fish))\n",
    "se"
   ]
  },
  {
   "cell_type": "code",
   "execution_count": 12,
   "id": "e9518f9a-235b-4557-970b-8df2178a9b51",
   "metadata": {},
   "outputs": [
    {
     "data": {
      "text/plain": [
       "(3.597, 4.777)"
      ]
     },
     "execution_count": 12,
     "metadata": {},
     "output_type": "execute_result"
    }
   ],
   "source": [
    "interval = stats.t.interval(alpha=0.95,df = df,loc = mu,scale=se)\n",
    "interval"
   ]
  },
  {
   "cell_type": "code",
   "execution_count": 13,
   "id": "71c289c2-fb5d-4727-9c05-c066299c7907",
   "metadata": {},
   "outputs": [
    {
     "data": {
      "text/plain": [
       "0     58.529820\n",
       "1     52.353039\n",
       "2     74.446169\n",
       "3     52.983263\n",
       "4     55.876879\n",
       "5     67.659849\n",
       "6     47.726141\n",
       "7     50.266907\n",
       "8     56.500826\n",
       "9     52.361040\n",
       "10    45.457883\n",
       "11    53.360988\n",
       "12    52.129368\n",
       "13    59.827773\n",
       "14    41.681692\n",
       "15    49.398568\n",
       "16    64.211128\n",
       "17    69.858648\n",
       "18    42.910564\n",
       "19    60.158780\n",
       "Name: weight, dtype: float64"
      ]
     },
     "execution_count": 13,
     "metadata": {},
     "output_type": "execute_result"
    }
   ],
   "source": [
    "junk_food = pd.read_csv(\"./data/01/3-8-1-junk-food-weight.csv\")[\"weight\"]\n",
    "junk_food"
   ]
  },
  {
   "cell_type": "code",
   "execution_count": 14,
   "id": "0a6319ad-c4aa-4ec6-9c2e-b9a7948e4ab5",
   "metadata": {},
   "outputs": [
    {
     "name": "stderr",
     "output_type": "stream",
     "text": [
      "/tmp/ipykernel_7485/386281066.py:1: DeprecationWarning: scipy.mean is deprecated and will be removed in SciPy 2.0.0, use numpy.mean instead\n",
      "  mu = sp.mean(junk_food)\n"
     ]
    },
    {
     "data": {
      "text/plain": [
       "55.385"
      ]
     },
     "execution_count": 14,
     "metadata": {},
     "output_type": "execute_result"
    }
   ],
   "source": [
    "mu = sp.mean(junk_food)\n",
    "mu"
   ]
  },
  {
   "cell_type": "code",
   "execution_count": 15,
   "id": "463a390a-e7a4-4197-be9a-c7a81dc51acb",
   "metadata": {},
   "outputs": [
    {
     "name": "stderr",
     "output_type": "stream",
     "text": [
      "/tmp/ipykernel_7485/1781174893.py:2: DeprecationWarning: scipy.std is deprecated and will be removed in SciPy 2.0.0, use numpy.std instead\n",
      "  sigma = sp.std(junk_food,ddof=1)\n",
      "/tmp/ipykernel_7485/1781174893.py:3: DeprecationWarning: scipy.sqrt is deprecated and will be removed in SciPy 2.0.0, use numpy.lib.scimath.sqrt instead\n",
      "  se = sigma / sp.sqrt(len(junk_food))\n"
     ]
    },
    {
     "data": {
      "text/plain": [
       "1.958"
      ]
     },
     "execution_count": 15,
     "metadata": {},
     "output_type": "execute_result"
    }
   ],
   "source": [
    "df = len(junk_food) - 1\n",
    "sigma = sp.std(junk_food,ddof=1)\n",
    "se = sigma / sp.sqrt(len(junk_food))\n",
    "se"
   ]
  },
  {
   "cell_type": "code",
   "execution_count": 16,
   "id": "1b8d73e2-9012-4bce-9047-d98b1231bd90",
   "metadata": {},
   "outputs": [
    {
     "data": {
      "text/plain": [
       "2.750"
      ]
     },
     "execution_count": 16,
     "metadata": {},
     "output_type": "execute_result"
    }
   ],
   "source": [
    "t_value = (mu - 50) / se\n",
    "t_value"
   ]
  },
  {
   "cell_type": "code",
   "execution_count": 17,
   "id": "1fe8bfe6-5df8-4634-b452-b399c5a24533",
   "metadata": {},
   "outputs": [
    {
     "data": {
      "text/plain": [
       "0.013"
      ]
     },
     "execution_count": 17,
     "metadata": {},
     "output_type": "execute_result"
    }
   ],
   "source": [
    "alpha = stats.t.cdf(t_value,df=df)\n",
    "(1-alpha)*2"
   ]
  },
  {
   "cell_type": "code",
   "execution_count": 18,
   "id": "8266f2af-5377-4d57-af76-69cabdf31fce",
   "metadata": {},
   "outputs": [
    {
     "data": {
      "text/plain": [
       "Ttest_1sampResult(statistic=2.750339683171343, pvalue=0.012725590012524182)"
      ]
     },
     "execution_count": 18,
     "metadata": {},
     "output_type": "execute_result"
    }
   ],
   "source": [
    "stats.ttest_1samp(junk_food,50)"
   ]
  },
  {
   "cell_type": "code",
   "execution_count": 23,
   "id": "36d82379-62e5-4eb9-bd00-77da37fcb5f4",
   "metadata": {},
   "outputs": [
    {
     "data": {
      "text/plain": [
       "0.013"
      ]
     },
     "execution_count": 23,
     "metadata": {},
     "output_type": "execute_result"
    }
   ],
   "source": [
    "size = len(junk_food)\n",
    "sigma = np.std(junk_food,ddof=1)\n",
    "t_value_array = np.zeros(50000)\n",
    "np.random.seed(1)\n",
    "norm_dist = stats.norm(loc=50,scale=sigma)\n",
    "for i in range(0,50000):\n",
    "    sample = norm_dist.rvs(size = size)\n",
    "    sample_mean = np.mean(sample)\n",
    "    sample_std = np.std(sample,ddof = 1)\n",
    "    sample_se = sample_std / np.lib.scimath.sqrt(size)\n",
    "    t_value_array[i] = (sample_mean - 50) / sample_se\n",
    "(sum(t_value_array > t_value) / 50000) * 2"
   ]
  },
  {
   "cell_type": "code",
   "execution_count": null,
   "id": "3e1d7a66-5af3-4bd6-bfe1-f6111f0efea3",
   "metadata": {},
   "outputs": [],
   "source": []
  }
 ],
 "metadata": {
  "kernelspec": {
   "display_name": "Python 3 (ipykernel)",
   "language": "python",
   "name": "python3"
  },
  "language_info": {
   "codemirror_mode": {
    "name": "ipython",
    "version": 3
   },
   "file_extension": ".py",
   "mimetype": "text/x-python",
   "name": "python",
   "nbconvert_exporter": "python",
   "pygments_lexer": "ipython3",
   "version": "3.9.10"
  }
 },
 "nbformat": 4,
 "nbformat_minor": 5
}
