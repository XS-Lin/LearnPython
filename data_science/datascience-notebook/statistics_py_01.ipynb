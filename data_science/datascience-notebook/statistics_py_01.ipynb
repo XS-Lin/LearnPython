{
 "cells": [
  {
   "cell_type": "code",
   "execution_count": 1,
   "id": "5c22853e-c25b-47b3-b4e8-cbad3230e32d",
   "metadata": {},
   "outputs": [
    {
     "data": {
      "text/html": [
       "<div>\n",
       "<style scoped>\n",
       "    .dataframe tbody tr th:only-of-type {\n",
       "        vertical-align: middle;\n",
       "    }\n",
       "\n",
       "    .dataframe tbody tr th {\n",
       "        vertical-align: top;\n",
       "    }\n",
       "\n",
       "    .dataframe thead th {\n",
       "        text-align: right;\n",
       "    }\n",
       "</style>\n",
       "<table border=\"1\" class=\"dataframe\">\n",
       "  <thead>\n",
       "    <tr style=\"text-align: right;\">\n",
       "      <th></th>\n",
       "      <th>氏名</th>\n",
       "      <th>数学</th>\n",
       "    </tr>\n",
       "  </thead>\n",
       "  <tbody>\n",
       "    <tr>\n",
       "      <th>0</th>\n",
       "      <td>山田太郎</td>\n",
       "      <td>90</td>\n",
       "    </tr>\n",
       "    <tr>\n",
       "      <th>3</th>\n",
       "      <td>佐藤三郎</td>\n",
       "      <td>88</td>\n",
       "    </tr>\n",
       "  </tbody>\n",
       "</table>\n",
       "</div>"
      ],
      "text/plain": [
       "     氏名  数学\n",
       "0  山田太郎  90\n",
       "3  佐藤三郎  88"
      ]
     },
     "execution_count": 1,
     "metadata": {},
     "output_type": "execute_result"
    }
   ],
   "source": [
    "import pandas as pd\n",
    "data = [\n",
    "    ['山田太郎',90,50],\n",
    "    ['鈴木花子',80,70],\n",
    "    ['高橋次郎',75,80],\n",
    "    ['佐藤三郎',88,65]\n",
    "]\n",
    "score = pd.DataFrame(data, columns=['氏名','数学','英語'])\n",
    "score\n",
    "score.shape\n",
    "len(score)\n",
    "len(score.columns)\n",
    "score['数学']\n",
    "score.数学\n",
    "score[score.数学 > 80]\n",
    "score[score.数学 > 80][['氏名','数学']]"
   ]
  },
  {
   "cell_type": "code",
   "execution_count": 3,
   "id": "36071d7d-fb86-4a7f-a02d-7015e52ed0a2",
   "metadata": {},
   "outputs": [
    {
     "data": {
      "text/html": [
       "<div>\n",
       "<style scoped>\n",
       "    .dataframe tbody tr th:only-of-type {\n",
       "        vertical-align: middle;\n",
       "    }\n",
       "\n",
       "    .dataframe tbody tr th {\n",
       "        vertical-align: top;\n",
       "    }\n",
       "\n",
       "    .dataframe thead th {\n",
       "        text-align: right;\n",
       "    }\n",
       "</style>\n",
       "<table border=\"1\" class=\"dataframe\">\n",
       "  <thead>\n",
       "    <tr style=\"text-align: right;\">\n",
       "      <th></th>\n",
       "      <th>都道府県コード</th>\n",
       "      <th>都道府県名</th>\n",
       "      <th>元号</th>\n",
       "      <th>和暦（年）</th>\n",
       "      <th>西暦（年）</th>\n",
       "      <th>注</th>\n",
       "      <th>人口（総数）</th>\n",
       "      <th>人口（男）</th>\n",
       "      <th>人口（女）</th>\n",
       "    </tr>\n",
       "  </thead>\n",
       "  <tbody>\n",
       "    <tr>\n",
       "      <th>0</th>\n",
       "      <td>00</td>\n",
       "      <td>全国</td>\n",
       "      <td>大正</td>\n",
       "      <td>9.0</td>\n",
       "      <td>1920.0</td>\n",
       "      <td>NaN</td>\n",
       "      <td>55963053</td>\n",
       "      <td>28044185</td>\n",
       "      <td>27918868</td>\n",
       "    </tr>\n",
       "    <tr>\n",
       "      <th>1</th>\n",
       "      <td>01</td>\n",
       "      <td>北海道</td>\n",
       "      <td>大正</td>\n",
       "      <td>9.0</td>\n",
       "      <td>1920.0</td>\n",
       "      <td>NaN</td>\n",
       "      <td>2359183</td>\n",
       "      <td>1244322</td>\n",
       "      <td>1114861</td>\n",
       "    </tr>\n",
       "    <tr>\n",
       "      <th>2</th>\n",
       "      <td>02</td>\n",
       "      <td>青森県</td>\n",
       "      <td>大正</td>\n",
       "      <td>9.0</td>\n",
       "      <td>1920.0</td>\n",
       "      <td>NaN</td>\n",
       "      <td>756454</td>\n",
       "      <td>381293</td>\n",
       "      <td>375161</td>\n",
       "    </tr>\n",
       "    <tr>\n",
       "      <th>3</th>\n",
       "      <td>03</td>\n",
       "      <td>岩手県</td>\n",
       "      <td>大正</td>\n",
       "      <td>9.0</td>\n",
       "      <td>1920.0</td>\n",
       "      <td>NaN</td>\n",
       "      <td>845540</td>\n",
       "      <td>421069</td>\n",
       "      <td>424471</td>\n",
       "    </tr>\n",
       "    <tr>\n",
       "      <th>4</th>\n",
       "      <td>04</td>\n",
       "      <td>宮城県</td>\n",
       "      <td>大正</td>\n",
       "      <td>9.0</td>\n",
       "      <td>1920.0</td>\n",
       "      <td>NaN</td>\n",
       "      <td>961768</td>\n",
       "      <td>485309</td>\n",
       "      <td>476459</td>\n",
       "    </tr>\n",
       "  </tbody>\n",
       "</table>\n",
       "</div>"
      ],
      "text/plain": [
       "  都道府県コード 都道府県名  元号  和暦（年）   西暦（年）    注    人口（総数）     人口（男）     人口（女）\n",
       "0      00    全国  大正    9.0  1920.0  NaN  55963053  28044185  27918868\n",
       "1      01   北海道  大正    9.0  1920.0  NaN   2359183   1244322   1114861\n",
       "2      02   青森県  大正    9.0  1920.0  NaN    756454    381293    375161\n",
       "3      03   岩手県  大正    9.0  1920.0  NaN    845540    421069    424471\n",
       "4      04   宮城県  大正    9.0  1920.0  NaN    961768    485309    476459"
      ]
     },
     "execution_count": 3,
     "metadata": {},
     "output_type": "execute_result"
    }
   ],
   "source": [
    "import pandas as pd\n",
    "kokusei = pd.read_csv('data/02/c01.csv',encoding='shift_jis')\n",
    "kokusei.head()"
   ]
  },
  {
   "cell_type": "code",
   "execution_count": 4,
   "id": "e36c5a6f-99d2-49c9-b833-2f629e65bbf8",
   "metadata": {},
   "outputs": [
    {
     "data": {
      "text/html": [
       "<div>\n",
       "<style scoped>\n",
       "    .dataframe tbody tr th:only-of-type {\n",
       "        vertical-align: middle;\n",
       "    }\n",
       "\n",
       "    .dataframe tbody tr th {\n",
       "        vertical-align: top;\n",
       "    }\n",
       "\n",
       "    .dataframe thead th {\n",
       "        text-align: right;\n",
       "    }\n",
       "</style>\n",
       "<table border=\"1\" class=\"dataframe\">\n",
       "  <thead>\n",
       "    <tr style=\"text-align: right;\">\n",
       "      <th></th>\n",
       "      <th>都道府県コード</th>\n",
       "      <th>都道府県名</th>\n",
       "      <th>元号</th>\n",
       "      <th>和暦（年）</th>\n",
       "      <th>西暦（年）</th>\n",
       "      <th>注</th>\n",
       "      <th>人口（総数）</th>\n",
       "      <th>人口（男）</th>\n",
       "      <th>人口（女）</th>\n",
       "    </tr>\n",
       "  </thead>\n",
       "  <tbody>\n",
       "    <tr>\n",
       "      <th>977</th>\n",
       "      <td>45</td>\n",
       "      <td>宮崎県</td>\n",
       "      <td>平成</td>\n",
       "      <td>27.0</td>\n",
       "      <td>2015.0</td>\n",
       "      <td>NaN</td>\n",
       "      <td>1104069</td>\n",
       "      <td>519242</td>\n",
       "      <td>584827</td>\n",
       "    </tr>\n",
       "    <tr>\n",
       "      <th>978</th>\n",
       "      <td>46</td>\n",
       "      <td>鹿児島県</td>\n",
       "      <td>平成</td>\n",
       "      <td>27.0</td>\n",
       "      <td>2015.0</td>\n",
       "      <td>NaN</td>\n",
       "      <td>1648177</td>\n",
       "      <td>773061</td>\n",
       "      <td>875116</td>\n",
       "    </tr>\n",
       "    <tr>\n",
       "      <th>979</th>\n",
       "      <td>47</td>\n",
       "      <td>沖縄県</td>\n",
       "      <td>平成</td>\n",
       "      <td>27.0</td>\n",
       "      <td>2015.0</td>\n",
       "      <td>NaN</td>\n",
       "      <td>1433566</td>\n",
       "      <td>704619</td>\n",
       "      <td>728947</td>\n",
       "    </tr>\n",
       "    <tr>\n",
       "      <th>980</th>\n",
       "      <td>1)　沖縄県は調査されなかったため，含まれていない。</td>\n",
       "      <td>NaN</td>\n",
       "      <td>NaN</td>\n",
       "      <td>NaN</td>\n",
       "      <td>NaN</td>\n",
       "      <td>NaN</td>\n",
       "      <td>NaN</td>\n",
       "      <td>NaN</td>\n",
       "      <td>NaN</td>\n",
       "    </tr>\n",
       "    <tr>\n",
       "      <th>981</th>\n",
       "      <td>2)　長野県西筑摩群山口村と岐阜県中津川市の境界紛争地域人口（男39人，女34人）は全国に含...</td>\n",
       "      <td>NaN</td>\n",
       "      <td>NaN</td>\n",
       "      <td>NaN</td>\n",
       "      <td>NaN</td>\n",
       "      <td>NaN</td>\n",
       "      <td>NaN</td>\n",
       "      <td>NaN</td>\n",
       "      <td>NaN</td>\n",
       "    </tr>\n",
       "  </tbody>\n",
       "</table>\n",
       "</div>"
      ],
      "text/plain": [
       "                                               都道府県コード 都道府県名   元号  和暦（年）  \\\n",
       "977                                                 45   宮崎県   平成   27.0   \n",
       "978                                                 46  鹿児島県   平成   27.0   \n",
       "979                                                 47   沖縄県   平成   27.0   \n",
       "980                         1)　沖縄県は調査されなかったため，含まれていない。   NaN  NaN    NaN   \n",
       "981  2)　長野県西筑摩群山口村と岐阜県中津川市の境界紛争地域人口（男39人，女34人）は全国に含...   NaN  NaN    NaN   \n",
       "\n",
       "      西暦（年）    注   人口（総数）   人口（男）   人口（女）  \n",
       "977  2015.0  NaN  1104069  519242  584827  \n",
       "978  2015.0  NaN  1648177  773061  875116  \n",
       "979  2015.0  NaN  1433566  704619  728947  \n",
       "980     NaN  NaN      NaN     NaN     NaN  \n",
       "981     NaN  NaN      NaN     NaN     NaN  "
      ]
     },
     "execution_count": 4,
     "metadata": {},
     "output_type": "execute_result"
    }
   ],
   "source": [
    "kokusei.tail()"
   ]
  },
  {
   "cell_type": "code",
   "execution_count": 6,
   "id": "80f3e6fd-f265-4bd1-95e7-0f3dc141e8ce",
   "metadata": {},
   "outputs": [
    {
     "data": {
      "text/plain": [
       "47"
      ]
     },
     "execution_count": 6,
     "metadata": {},
     "output_type": "execute_result"
    }
   ],
   "source": [
    "kokusei = kokusei.dropna(subset=['都道府県名'])\n",
    "h27 = kokusei[kokusei['西暦（年）'] == 2015]\n",
    "h27_pref = h27[~h27['都道府県コード'].isin(['00','0A','0B'])]\n",
    "len(h27_pref)"
   ]
  },
  {
   "cell_type": "code",
   "execution_count": 7,
   "id": "4e041525-b7f2-4fce-958e-855747a5e47b",
   "metadata": {},
   "outputs": [
    {
     "data": {
      "text/plain": [
       "5      3\n",
       "1     21\n",
       "2      7\n",
       "7      2\n",
       "6      1\n",
       "13     1\n",
       "9      1\n",
       "0      9\n",
       "3      1\n",
       "8      1\n",
       "Name: 人口（総数）, dtype: int64"
      ]
     },
     "execution_count": 7,
     "metadata": {},
     "output_type": "execute_result"
    }
   ],
   "source": [
    "h27_population = pd.Series(h27_pref['人口（総数）'],dtype='int')\n",
    "pd.value_counts(h27_population // 1000000, sort = False)"
   ]
  },
  {
   "cell_type": "code",
   "execution_count": 9,
   "id": "5d084d68-4ef5-4763-b400-5bdf0b401516",
   "metadata": {},
   "outputs": [
    {
     "data": {
      "text/plain": [
       "6.554588851677638"
      ]
     },
     "execution_count": 9,
     "metadata": {},
     "output_type": "execute_result"
    }
   ],
   "source": [
    "import math\n",
    "math.log2(47)+1"
   ]
  },
  {
   "cell_type": "code",
   "execution_count": 10,
   "id": "907e35c5-ae22-4438-9bbd-82b72228b1b8",
   "metadata": {},
   "outputs": [
    {
     "data": {
      "text/plain": [
       "<AxesSubplot:>"
      ]
     },
     "execution_count": 10,
     "metadata": {},
     "output_type": "execute_result"
    },
    {
     "data": {
      "image/png": "[encoded data removed]",
      "text/plain": [
       "<Figure size 432x288 with 1 Axes>"
      ]
     },
     "metadata": {
      "needs_background": "light"
     },
     "output_type": "display_data"
    }
   ],
   "source": [
    "h27_population.hist()"
   ]
  },
  {
   "cell_type": "code",
   "execution_count": 11,
   "id": "e935d54d-7792-4e4e-8c74-2e2e4c77351c",
   "metadata": {},
   "outputs": [
    {
     "data": {
      "text/plain": [
       "<AxesSubplot:>"
      ]
     },
     "execution_count": 11,
     "metadata": {},
     "output_type": "execute_result"
    },
    {
     "data": {
      "image/png": "[encoded data removed]",
      "text/plain": [
       "<Figure size 432x288 with 1 Axes>"
      ]
     },
     "metadata": {
      "needs_background": "light"
     },
     "output_type": "display_data"
    }
   ],
   "source": [
    "h27_population.hist(bins=list(range(0,15000000,1000000)))"
   ]
  },
  {
   "cell_type": "code",
   "execution_count": 12,
   "id": "9bc1ebe6-0997-436f-b210-720edc530599",
   "metadata": {},
   "outputs": [
    {
     "data": {
      "text/plain": [
       "127094745"
      ]
     },
     "execution_count": 12,
     "metadata": {},
     "output_type": "execute_result"
    }
   ],
   "source": [
    "h27_population.sum()"
   ]
  },
  {
   "cell_type": "code",
   "execution_count": 14,
   "id": "f2ce4723-7159-46e8-9781-fbf14f21cb39",
   "metadata": {},
   "outputs": [
    {
     "data": {
      "text/plain": [
       "2704143.510638298"
      ]
     },
     "execution_count": 14,
     "metadata": {},
     "output_type": "execute_result"
    }
   ],
   "source": [
    "total = h27_population.sum()\n",
    "total / len(h27_population)"
   ]
  },
  {
   "cell_type": "code",
   "execution_count": 15,
   "id": "889e1fa4-ef47-4572-989a-0229aef9d3ce",
   "metadata": {},
   "outputs": [
    {
     "data": {
      "text/plain": [
       "2704143.510638298"
      ]
     },
     "execution_count": 15,
     "metadata": {},
     "output_type": "execute_result"
    }
   ],
   "source": [
    "h27_population.mean()"
   ]
  },
  {
   "cell_type": "code",
   "execution_count": 16,
   "id": "33683846-4fb8-4492-bec9-1e66a7fffec5",
   "metadata": {},
   "outputs": [
    {
     "data": {
      "text/plain": [
       "2704143.510638298"
      ]
     },
     "execution_count": 16,
     "metadata": {},
     "output_type": "execute_result"
    }
   ],
   "source": [
    "import numpy as np\n",
    "np.average(h27_population)"
   ]
  },
  {
   "cell_type": "code",
   "execution_count": 19,
   "id": "ff22c4cc-881b-4950-8f0b-075e2ec8bdda",
   "metadata": {},
   "outputs": [
    {
     "data": {
      "text/plain": [
       "1648177.0"
      ]
     },
     "execution_count": 19,
     "metadata": {},
     "output_type": "execute_result"
    }
   ],
   "source": [
    "h27_population.median()"
   ]
  },
  {
   "cell_type": "code",
   "execution_count": 20,
   "id": "f75419ff-613d-49b3-9f1e-883532464123",
   "metadata": {},
   "outputs": [
    {
     "data": {
      "text/plain": [
       "63.5"
      ]
     },
     "execution_count": 20,
     "metadata": {},
     "output_type": "execute_result"
    }
   ],
   "source": [
    "import numpy as np\n",
    "data = [58,67,61,80,55,72,69,74]\n",
    "m = np.average(data)\n",
    "np.sum([(i - m)**2 for i in data]) / len(data)"
   ]
  },
  {
   "cell_type": "code",
   "execution_count": 21,
   "id": "a58aba95-e7e6-4179-8b83-3c13b9a19188",
   "metadata": {},
   "outputs": [
    {
     "data": {
      "text/plain": [
       "63.5"
      ]
     },
     "execution_count": 21,
     "metadata": {},
     "output_type": "execute_result"
    }
   ],
   "source": [
    "np.var(data)"
   ]
  },
  {
   "cell_type": "code",
   "execution_count": 22,
   "id": "5a23d40f-4016-4566-9e1c-a350221e9477",
   "metadata": {},
   "outputs": [
    {
     "data": {
      "text/plain": [
       "72.57142857142857"
      ]
     },
     "execution_count": 22,
     "metadata": {},
     "output_type": "execute_result"
    }
   ],
   "source": [
    "import numpy as np\n",
    "data = [58,67,61,80,55,72,69,74]\n",
    "m = np.average(data)\n",
    "np.sum([(i - m)**2 for i in data]) / (len(data) - 1)"
   ]
  },
  {
   "cell_type": "code",
   "execution_count": 23,
   "id": "da75d59c-8b11-4201-b612-cb04e8fca303",
   "metadata": {},
   "outputs": [
    {
     "data": {
      "text/plain": [
       "2699507.9674356566"
      ]
     },
     "execution_count": 23,
     "metadata": {},
     "output_type": "execute_result"
    }
   ],
   "source": [
    "np.sqrt(np.var(h27_population))"
   ]
  },
  {
   "cell_type": "code",
   "execution_count": 24,
   "id": "975263bd-95e9-4419-9d09-b8213799f427",
   "metadata": {},
   "outputs": [
    {
     "data": {
      "text/plain": [
       "2699507.9674356566"
      ]
     },
     "execution_count": 24,
     "metadata": {},
     "output_type": "execute_result"
    }
   ],
   "source": [
    "np.std(h27_population)"
   ]
  },
  {
   "cell_type": "code",
   "execution_count": 25,
   "id": "cc71eba9-3c50-46e7-8585-4429f00b637c",
   "metadata": {},
   "outputs": [
    {
     "data": {
      "text/plain": [
       "<BarContainer object of 3 artists>"
      ]
     },
     "execution_count": 25,
     "metadata": {},
     "output_type": "execute_result"
    },
    {
     "data": {
      "image/png": "[encoded data removed]",
      "text/plain": [
       "<Figure size 432x288 with 1 Axes>"
      ]
     },
     "metadata": {
      "needs_background": "light"
     },
     "output_type": "display_data"
    }
   ],
   "source": [
    "import matplotlib.pyplot as plt\n",
    "plt.bar(\n",
    "    ['A','B','C'],\n",
    "    [100,200,300]\n",
    ")"
   ]
  },
  {
   "cell_type": "code",
   "execution_count": 26,
   "id": "a6aec861-5e3a-47ed-997f-55550c7d3787",
   "metadata": {},
   "outputs": [
    {
     "data": {
      "text/plain": [
       "[<matplotlib.lines.Line2D at 0x7f6bafc4b790>]"
      ]
     },
     "execution_count": 26,
     "metadata": {},
     "output_type": "execute_result"
    },
    {
     "data": {
      "image/png": "[encoded data removed]",
      "text/plain": [
       "<Figure size 432x288 with 1 Axes>"
      ]
     },
     "metadata": {
      "needs_background": "light"
     },
     "output_type": "display_data"
    }
   ],
   "source": [
    "plt.plot(\n",
    "    [1,2,3,4,5,6],\n",
    "    [800,600,700,1100,900,1000]\n",
    ")"
   ]
  },
  {
   "cell_type": "code",
   "execution_count": 27,
   "id": "8a9aac9e-7a4f-4f5f-aff0-fbc3340291a0",
   "metadata": {},
   "outputs": [
    {
     "data": {
      "text/plain": [
       "[<matplotlib.lines.Line2D at 0x7f6bafc2de80>]"
      ]
     },
     "execution_count": 27,
     "metadata": {},
     "output_type": "execute_result"
    },
    {
     "data": {
      "image/png": "[encoded data removed]",
      "text/plain": [
       "<Figure size 432x288 with 1 Axes>"
      ]
     },
     "metadata": {
      "needs_background": "light"
     },
     "output_type": "display_data"
    }
   ],
   "source": [
    "plt.plot(\n",
    "    [1,2,3,4,5,6],\n",
    "    [800,600,700,1100,900,1000],\n",
    "    color='red'\n",
    ")\n",
    "plt.plot(\n",
    "    [1,2,3,4,5,6],\n",
    "    [700,800,600,900,1000,800],\n",
    "    color='blue'\n",
    ")"
   ]
  },
  {
   "cell_type": "code",
   "execution_count": 31,
   "id": "87ba22c7-8635-4bf7-9097-60be78a18ac1",
   "metadata": {},
   "outputs": [
    {
     "data": {
      "text/plain": [
       "([<matplotlib.patches.Wedge at 0x7f6bafad0640>,\n",
       "  <matplotlib.patches.Wedge at 0x7f6bafad0b20>,\n",
       "  <matplotlib.patches.Wedge at 0x7f6bafadd040>,\n",
       "  <matplotlib.patches.Wedge at 0x7f6bafadd520>],\n",
       " [Text(1.0461621742897658, 0.33991867422268784, 'A'),\n",
       "  Text(-0.33991877217145816, -1.046162142464278, 'O'),\n",
       "  Text(-1.0461621265515308, 0.3399188211458419, 'B'),\n",
       "  Text(-0.3399185517867208, 1.0461622140716127, 'AB')])"
      ]
     },
     "execution_count": 31,
     "metadata": {},
     "output_type": "execute_result"
    },
    {
     "data": {
      "image/png": "[encoded data removed]",
      "text/plain": [
       "<Figure size 432x288 with 1 Axes>"
      ]
     },
     "metadata": {},
     "output_type": "display_data"
    }
   ],
   "source": [
    "plt.pie(\n",
    "    [40,30,20,10],\n",
    "    labels=['A','O','B','AB'],\n",
    "    startangle=90,\n",
    "    counterclock=False\n",
    ")"
   ]
  },
  {
   "cell_type": "code",
   "execution_count": 32,
   "id": "4e098ac3-e561-494f-9fa7-c0b80828af39",
   "metadata": {},
   "outputs": [
    {
     "data": {
      "text/plain": [
       "<matplotlib.collections.PathCollection at 0x7f6bafaa62e0>"
      ]
     },
     "execution_count": 32,
     "metadata": {},
     "output_type": "execute_result"
    },
    {
     "data": {
      "image/png": "[encoded data removed]",
      "text/plain": [
       "<Figure size 432x288 with 1 Axes>"
      ]
     },
     "metadata": {
      "needs_background": "light"
     },
     "output_type": "display_data"
    }
   ],
   "source": [
    "plt.scatter(\n",
    "    pd.Series(h27_pref['人口（男）'],dtype='int'),\n",
    "    pd.Series(h27_pref['人口（女）'],dtype='int'),\n",
    ")"
   ]
  },
  {
   "cell_type": "code",
   "execution_count": 33,
   "id": "a060dd1c-b1c1-44c2-a0a4-22057c3686c7",
   "metadata": {},
   "outputs": [
    {
     "data": {
      "text/plain": [
       "array([[ 125., -150.],\n",
       "       [-150.,  250.]])"
      ]
     },
     "execution_count": 33,
     "metadata": {},
     "output_type": "execute_result"
    }
   ],
   "source": [
    "english = [80,60,90,70]\n",
    "math = [50,70,40,80]\n",
    "np.cov(english,math,bias=True)"
   ]
  },
  {
   "cell_type": "code",
   "execution_count": 34,
   "id": "264766d2-d635-4f97-84ad-e5a7be219707",
   "metadata": {},
   "outputs": [
    {
     "data": {
      "text/plain": [
       "array([[ 166.66666667, -200.        ],\n",
       "       [-200.        ,  333.33333333]])"
      ]
     },
     "execution_count": 34,
     "metadata": {},
     "output_type": "execute_result"
    }
   ],
   "source": [
    "np.cov(english,math)"
   ]
  },
  {
   "cell_type": "code",
   "execution_count": 35,
   "id": "307ce097-31d1-492b-adb5-f523a87f406f",
   "metadata": {},
   "outputs": [
    {
     "data": {
      "text/plain": [
       "array([[ 1.        , -0.84852814],\n",
       "       [-0.84852814,  1.        ]])"
      ]
     },
     "execution_count": 35,
     "metadata": {},
     "output_type": "execute_result"
    }
   ],
   "source": [
    "np.corrcoef(english,math)"
   ]
  },
  {
   "cell_type": "code",
   "execution_count": 36,
   "id": "01882afe-5a80-425a-8385-740727d9bd0d",
   "metadata": {},
   "outputs": [
    {
     "data": {
      "text/html": [
       "<div>\n",
       "<style scoped>\n",
       "    .dataframe tbody tr th:only-of-type {\n",
       "        vertical-align: middle;\n",
       "    }\n",
       "\n",
       "    .dataframe tbody tr th {\n",
       "        vertical-align: top;\n",
       "    }\n",
       "\n",
       "    .dataframe thead th {\n",
       "        text-align: right;\n",
       "    }\n",
       "</style>\n",
       "<table border=\"1\" class=\"dataframe\">\n",
       "  <thead>\n",
       "    <tr style=\"text-align: right;\">\n",
       "      <th></th>\n",
       "      <th>0</th>\n",
       "      <th>1</th>\n",
       "    </tr>\n",
       "  </thead>\n",
       "  <tbody>\n",
       "    <tr>\n",
       "      <th>0</th>\n",
       "      <td>1.000000</td>\n",
       "      <td>-0.848528</td>\n",
       "    </tr>\n",
       "    <tr>\n",
       "      <th>1</th>\n",
       "      <td>-0.848528</td>\n",
       "      <td>1.000000</td>\n",
       "    </tr>\n",
       "  </tbody>\n",
       "</table>\n",
       "</div>"
      ],
      "text/plain": [
       "          0         1\n",
       "0  1.000000 -0.848528\n",
       "1 -0.848528  1.000000"
      ]
     },
     "execution_count": 36,
     "metadata": {},
     "output_type": "execute_result"
    }
   ],
   "source": [
    "score = pd.DataFrame([[80,50],[60,70],[90,40],[70,80]])\n",
    "score.corr()"
   ]
  },
  {
   "cell_type": "code",
   "execution_count": 37,
   "id": "30a2f448-1f46-4998-aa55-2fd1b465c3dd",
   "metadata": {},
   "outputs": [
    {
     "data": {
      "image/png": "[encoded data removed]",
      "text/plain": [
       "<Figure size 720x720 with 16 Axes>"
      ]
     },
     "metadata": {
      "needs_background": "light"
     },
     "output_type": "display_data"
    }
   ],
   "source": [
    "from sklearn.datasets import load_iris\n",
    "import pandas as pd\n",
    "import matplotlib.pyplot as plt\n",
    "\n",
    "iris = load_iris()\n",
    "iris_df = pd.DataFrame(iris.data, columns=iris.feature_names)\n",
    "\n",
    "pd.plotting.scatter_matrix(iris_df,figsize=(10,10),c=iris.target)\n",
    "plt.show()"
   ]
  },
  {
   "cell_type": "code",
   "execution_count": 40,
   "id": "9cbcc46d-3173-49a9-93d9-567e3fcfb849",
   "metadata": {},
   "outputs": [
    {
     "data": {
      "text/html": [
       "<div>\n",
       "<style scoped>\n",
       "    .dataframe tbody tr th:only-of-type {\n",
       "        vertical-align: middle;\n",
       "    }\n",
       "\n",
       "    .dataframe tbody tr th {\n",
       "        vertical-align: top;\n",
       "    }\n",
       "\n",
       "    .dataframe thead th {\n",
       "        text-align: right;\n",
       "    }\n",
       "</style>\n",
       "<table border=\"1\" class=\"dataframe\">\n",
       "  <thead>\n",
       "    <tr style=\"text-align: right;\">\n",
       "      <th></th>\n",
       "      <th>sepal length (cm)</th>\n",
       "      <th>sepal width (cm)</th>\n",
       "      <th>petal length (cm)</th>\n",
       "      <th>petal width (cm)</th>\n",
       "    </tr>\n",
       "  </thead>\n",
       "  <tbody>\n",
       "    <tr>\n",
       "      <th>sepal length (cm)</th>\n",
       "      <td>1.000000</td>\n",
       "      <td>-0.117570</td>\n",
       "      <td>0.871754</td>\n",
       "      <td>0.817941</td>\n",
       "    </tr>\n",
       "    <tr>\n",
       "      <th>sepal width (cm)</th>\n",
       "      <td>-0.117570</td>\n",
       "      <td>1.000000</td>\n",
       "      <td>-0.428440</td>\n",
       "      <td>-0.366126</td>\n",
       "    </tr>\n",
       "    <tr>\n",
       "      <th>petal length (cm)</th>\n",
       "      <td>0.871754</td>\n",
       "      <td>-0.428440</td>\n",
       "      <td>1.000000</td>\n",
       "      <td>0.962865</td>\n",
       "    </tr>\n",
       "    <tr>\n",
       "      <th>petal width (cm)</th>\n",
       "      <td>0.817941</td>\n",
       "      <td>-0.366126</td>\n",
       "      <td>0.962865</td>\n",
       "      <td>1.000000</td>\n",
       "    </tr>\n",
       "  </tbody>\n",
       "</table>\n",
       "</div>"
      ],
      "text/plain": [
       "                   sepal length (cm)  sepal width (cm)  petal length (cm)  \\\n",
       "sepal length (cm)           1.000000         -0.117570           0.871754   \n",
       "sepal width (cm)           -0.117570          1.000000          -0.428440   \n",
       "petal length (cm)           0.871754         -0.428440           1.000000   \n",
       "petal width (cm)            0.817941         -0.366126           0.962865   \n",
       "\n",
       "                   petal width (cm)  \n",
       "sepal length (cm)          0.817941  \n",
       "sepal width (cm)          -0.366126  \n",
       "petal length (cm)          0.962865  \n",
       "petal width (cm)           1.000000  "
      ]
     },
     "execution_count": 40,
     "metadata": {},
     "output_type": "execute_result"
    }
   ],
   "source": [
    "iris_df.corr()"
   ]
  },
  {
   "cell_type": "code",
   "execution_count": 44,
   "id": "8bc8b352-07a7-4d73-8009-9941a2391c62",
   "metadata": {},
   "outputs": [
    {
     "data": {
      "text/html": [
       "<div>\n",
       "<style scoped>\n",
       "    .dataframe tbody tr th:only-of-type {\n",
       "        vertical-align: middle;\n",
       "    }\n",
       "\n",
       "    .dataframe tbody tr th {\n",
       "        vertical-align: top;\n",
       "    }\n",
       "\n",
       "    .dataframe thead th {\n",
       "        text-align: right;\n",
       "    }\n",
       "</style>\n",
       "<table border=\"1\" class=\"dataframe\">\n",
       "  <thead>\n",
       "    <tr style=\"text-align: right;\">\n",
       "      <th>blood_type</th>\n",
       "      <th>A</th>\n",
       "      <th>AB</th>\n",
       "      <th>B</th>\n",
       "      <th>O</th>\n",
       "    </tr>\n",
       "    <tr>\n",
       "      <th>sex</th>\n",
       "      <th></th>\n",
       "      <th></th>\n",
       "      <th></th>\n",
       "      <th></th>\n",
       "    </tr>\n",
       "  </thead>\n",
       "  <tbody>\n",
       "    <tr>\n",
       "      <th>女</th>\n",
       "      <td>2</td>\n",
       "      <td>1</td>\n",
       "      <td>1</td>\n",
       "      <td>2</td>\n",
       "    </tr>\n",
       "    <tr>\n",
       "      <th>男</th>\n",
       "      <td>4</td>\n",
       "      <td>1</td>\n",
       "      <td>1</td>\n",
       "      <td>0</td>\n",
       "    </tr>\n",
       "  </tbody>\n",
       "</table>\n",
       "</div>"
      ],
      "text/plain": [
       "blood_type  A  AB  B  O\n",
       "sex                    \n",
       "女           2   1  1  2\n",
       "男           4   1  1  0"
      ]
     },
     "execution_count": 44,
     "metadata": {},
     "output_type": "execute_result"
    }
   ],
   "source": [
    "import pandas as pd\n",
    "\n",
    "df = pd.DataFrame([\n",
    "    ['男','A'],['女','B'],['男','A'],['男','AB'],\n",
    "    ['女','O'],['男','A'],['女','A'],['女','AB'],\n",
    "    ['男','A'],['女','A'],['女','O'],['男','B'],\n",
    "],columns=['sex','blood_type'])\n",
    "pd.crosstab(df['sex'],df['blood_type'])"
   ]
  },
  {
   "cell_type": "code",
   "execution_count": 45,
   "id": "1d59ae1d-4af5-4d9f-ae8b-db40a308d21e",
   "metadata": {},
   "outputs": [
    {
     "data": {
      "text/html": [
       "<div>\n",
       "<style scoped>\n",
       "    .dataframe tbody tr th:only-of-type {\n",
       "        vertical-align: middle;\n",
       "    }\n",
       "\n",
       "    .dataframe tbody tr th {\n",
       "        vertical-align: top;\n",
       "    }\n",
       "\n",
       "    .dataframe thead th {\n",
       "        text-align: right;\n",
       "    }\n",
       "</style>\n",
       "<table border=\"1\" class=\"dataframe\">\n",
       "  <thead>\n",
       "    <tr style=\"text-align: right;\">\n",
       "      <th>blood_type</th>\n",
       "      <th>A</th>\n",
       "      <th>AB</th>\n",
       "      <th>B</th>\n",
       "      <th>O</th>\n",
       "    </tr>\n",
       "    <tr>\n",
       "      <th>sex</th>\n",
       "      <th></th>\n",
       "      <th></th>\n",
       "      <th></th>\n",
       "      <th></th>\n",
       "    </tr>\n",
       "  </thead>\n",
       "  <tbody>\n",
       "    <tr>\n",
       "      <th>女</th>\n",
       "      <td>0.166667</td>\n",
       "      <td>0.083333</td>\n",
       "      <td>0.083333</td>\n",
       "      <td>0.166667</td>\n",
       "    </tr>\n",
       "    <tr>\n",
       "      <th>男</th>\n",
       "      <td>0.333333</td>\n",
       "      <td>0.083333</td>\n",
       "      <td>0.083333</td>\n",
       "      <td>0.000000</td>\n",
       "    </tr>\n",
       "  </tbody>\n",
       "</table>\n",
       "</div>"
      ],
      "text/plain": [
       "blood_type         A        AB         B         O\n",
       "sex                                               \n",
       "女           0.166667  0.083333  0.083333  0.166667\n",
       "男           0.333333  0.083333  0.083333  0.000000"
      ]
     },
     "execution_count": 45,
     "metadata": {},
     "output_type": "execute_result"
    }
   ],
   "source": [
    "pd.crosstab(df['sex'],df['blood_type'],normalize=True)"
   ]
  },
  {
   "cell_type": "code",
   "execution_count": 46,
   "id": "04748a16-dcbe-4934-a15d-ebd585e1bc16",
   "metadata": {},
   "outputs": [
    {
     "data": {
      "text/html": [
       "<div>\n",
       "<style scoped>\n",
       "    .dataframe tbody tr th:only-of-type {\n",
       "        vertical-align: middle;\n",
       "    }\n",
       "\n",
       "    .dataframe tbody tr th {\n",
       "        vertical-align: top;\n",
       "    }\n",
       "\n",
       "    .dataframe thead th {\n",
       "        text-align: right;\n",
       "    }\n",
       "</style>\n",
       "<table border=\"1\" class=\"dataframe\">\n",
       "  <thead>\n",
       "    <tr style=\"text-align: right;\">\n",
       "      <th></th>\n",
       "      <th>年月日</th>\n",
       "      <th>平均気温(℃)</th>\n",
       "    </tr>\n",
       "  </thead>\n",
       "  <tbody>\n",
       "    <tr>\n",
       "      <th>0</th>\n",
       "      <td>2019/1/1</td>\n",
       "      <td>5.3</td>\n",
       "    </tr>\n",
       "    <tr>\n",
       "      <th>1</th>\n",
       "      <td>2019/1/2</td>\n",
       "      <td>6.2</td>\n",
       "    </tr>\n",
       "    <tr>\n",
       "      <th>2</th>\n",
       "      <td>2019/1/3</td>\n",
       "      <td>4.9</td>\n",
       "    </tr>\n",
       "    <tr>\n",
       "      <th>3</th>\n",
       "      <td>2019/1/4</td>\n",
       "      <td>5.1</td>\n",
       "    </tr>\n",
       "    <tr>\n",
       "      <th>4</th>\n",
       "      <td>2019/1/5</td>\n",
       "      <td>7.4</td>\n",
       "    </tr>\n",
       "  </tbody>\n",
       "</table>\n",
       "</div>"
      ],
      "text/plain": [
       "        年月日  平均気温(℃)\n",
       "0  2019/1/1      5.3\n",
       "1  2019/1/2      6.2\n",
       "2  2019/1/3      4.9\n",
       "3  2019/1/4      5.1\n",
       "4  2019/1/5      7.4"
      ]
     },
     "execution_count": 46,
     "metadata": {},
     "output_type": "execute_result"
    }
   ],
   "source": [
    "temperature = pd.read_csv('data/02/temperature.csv')\n",
    "temperature.head()"
   ]
  },
  {
   "cell_type": "code",
   "execution_count": 47,
   "id": "b07bf3d4-7312-4a7e-b0ef-a901c7569ed4",
   "metadata": {},
   "outputs": [
    {
     "data": {
      "text/plain": [
       "array([ 0.75714286,  1.64285714,  2.34285714,  3.07142857,  4.12857143,\n",
       "        4.88571429,  5.65714286,  5.55714286,  5.31428571,  4.9       ,\n",
       "        5.08571429,  4.68571429,  4.81428571,  4.84285714,  4.98571429,\n",
       "        5.28571429,  5.94285714,  5.87142857,  6.15714286,  6.28571429,\n",
       "        6.31428571,  6.22857143,  6.24285714,  6.18571429,  6.2       ,\n",
       "        5.9       ,  5.54285714,  5.64285714,  5.78571429,  5.57142857,\n",
       "        5.41428571,  5.14285714,  5.35714286,  5.91428571,  6.87142857,\n",
       "        6.97142857,  7.04285714,  7.68571429,  7.97142857,  7.22857143,\n",
       "        6.51428571,  5.05714286,  4.98571429,  4.91428571,  4.18571429,\n",
       "        3.74285714,  4.6       ,  5.01428571,  5.75714286,  6.17142857,\n",
       "        7.08571429,  7.91428571,  8.81428571,  9.11428571,  9.45714286,\n",
       "        9.9       , 10.05714286,  9.5       ,  8.97142857,  8.9       ,\n",
       "        9.1       ,  8.77142857,  8.2       ,  8.11428571,  8.55714286,\n",
       "        8.78571429,  8.57142857,  8.52857143,  9.38571429, 10.1       ,\n",
       "       10.5       , 10.62857143, 10.65714286, 11.        , 10.84285714,\n",
       "       10.35714286,  9.98571429, 10.1       , 10.57142857, 11.9       ,\n",
       "       12.82857143, 12.57142857, 12.44285714, 12.47142857, 12.28571429,\n",
       "       12.17142857, 11.58571429, 10.37142857, 10.6       , 10.92857143,\n",
       "       10.77142857, 10.1       ,  9.22857143,  8.8       ,  9.9       ,\n",
       "       10.92857143, 11.64285714, 11.71428571, 12.15714286, 11.81428571,\n",
       "       11.78571429, 10.95714286, 10.41428571, 10.3       , 11.25714286,\n",
       "       11.97142857, 13.37142857, 14.38571429, 15.62857143, 15.92857143,\n",
       "       16.32857143, 16.78571429, 17.27142857, 17.78571429, 18.18571429,\n",
       "       17.22857143, 16.65714286, 15.95714286, 15.32857143, 14.77142857,\n",
       "       14.52857143, 14.1       , 15.08571429, 16.25714286, 17.15714286,\n",
       "       17.72857143, 17.8       , 17.67142857, 17.85714286, 18.15714286,\n",
       "       18.51428571, 18.32857143, 18.17142857, 18.54285714, 18.85714286,\n",
       "       19.05714286, 18.97142857, 18.88571429, 19.3       , 19.7       ,\n",
       "       19.91428571, 20.01428571, 20.2       , 20.64285714, 21.22857143,\n",
       "       21.9       , 22.7       , 23.28571429, 23.4       , 23.38571429,\n",
       "       23.17142857, 22.8       , 22.34285714, 21.78571429, 21.62857143,\n",
       "       21.97142857, 22.54285714, 22.45714286, 22.31428571, 21.67142857,\n",
       "       20.81428571, 20.22857143, 19.57142857, 18.92857143, 19.1       ,\n",
       "       18.6       , 19.45714286, 20.51428571, 21.24285714, 22.02857143,\n",
       "       22.51428571, 22.85714286, 23.55714286, 23.25714286, 22.61428571,\n",
       "       22.45714286, 22.62857143, 22.84285714, 22.92857143, 22.64285714,\n",
       "       22.67142857, 23.18571429, 23.4       , 23.42857143, 23.01428571,\n",
       "       22.54285714, 22.65714286, 22.31428571, 21.97142857, 21.38571429,\n",
       "       20.82857143, 20.42857143, 20.18571429, 20.52857143, 20.82857143,\n",
       "       20.97142857, 21.08571429, 21.5       , 22.31428571, 23.24285714,\n",
       "       23.68571429, 24.21428571, 24.41428571, 24.98571429, 25.4       ,\n",
       "       25.74285714, 26.        , 26.21428571, 26.6       , 27.5       ,\n",
       "       28.21428571, 28.67142857, 29.02857143, 29.27142857, 29.47142857,\n",
       "       29.71428571, 29.82857143, 29.94285714, 30.        , 29.91428571,\n",
       "       29.9       , 29.92857143, 29.92857143, 29.78571429, 29.64285714,\n",
       "       29.47142857, 29.37142857, 29.21428571, 29.31428571, 29.41428571,\n",
       "       29.31428571, 28.91428571, 28.6       , 28.14285714, 27.75714286,\n",
       "       27.32857143, 26.71428571, 26.31428571, 26.14285714, 25.94285714,\n",
       "       26.35714286, 26.31428571, 26.31428571, 26.58571429, 26.91428571,\n",
       "       26.98571429, 26.71428571, 26.25714286, 26.52857143, 26.68571429,\n",
       "       26.88571429, 27.08571429, 27.67142857, 28.2       , 28.11428571,\n",
       "       27.32857143, 26.42857143, 25.87142857, 25.        , 24.41428571,\n",
       "       23.52857143, 23.1       , 23.15714286, 23.11428571, 22.71428571,\n",
       "       23.15714286, 23.1       , 23.54285714, 23.64285714, 23.67142857,\n",
       "       24.04285714, 24.37142857, 24.25714286, 24.12857143, 24.07142857,\n",
       "       24.31428571, 24.57142857, 24.81428571, 24.21428571, 23.47142857,\n",
       "       23.07142857, 22.62857143, 21.9       , 21.15714286, 20.75714286,\n",
       "       21.32857143, 20.9       , 20.42857143, 19.75714286, 19.3       ,\n",
       "       18.85714286, 18.01428571, 17.38571429, 17.55714286, 17.12857143,\n",
       "       17.47142857, 17.74285714, 17.54285714, 17.64285714, 17.38571429,\n",
       "       17.27142857, 17.14285714, 16.85714286, 16.67142857, 17.        ,\n",
       "       16.65714286, 16.3       , 15.9       , 15.78571429, 15.47142857,\n",
       "       15.35714286, 15.02857143, 14.68571429, 14.41428571, 14.17142857,\n",
       "       14.37142857, 14.22857143, 14.35714286, 14.        , 13.92857143,\n",
       "       13.85714286, 14.31428571, 14.41428571, 14.22857143, 13.42857143,\n",
       "       12.78571429, 12.57142857, 12.92857143, 13.        , 12.        ,\n",
       "       11.61428571, 11.21428571, 10.8       , 10.22857143,  9.01428571,\n",
       "        8.        ,  8.42857143,  8.55714286,  8.71428571,  9.11428571,\n",
       "        8.85714286,  8.85714286,  8.41428571,  8.18571429,  8.4       ,\n",
       "        8.7       ,  8.62857143,  9.18571429,  9.37142857,  9.57142857,\n",
       "        9.28571429,  9.2       ,  8.81428571,  9.25714286,  9.07142857,\n",
       "        8.8       ,  8.65714286,  8.65714286,  7.91428571,  7.74285714,\n",
       "        7.47142857,  7.28571429,  7.31428571,  7.3       ,  7.3       ,\n",
       "        6.45714286,  5.34285714,  4.1       ,  3.12857143,  2.12857143,\n",
       "        1.17142857])"
      ]
     },
     "execution_count": 47,
     "metadata": {},
     "output_type": "execute_result"
    }
   ],
   "source": [
    "ma = np.convolve(temperature['平均気温(℃)'],[1/7] * 7)\n",
    "ma"
   ]
  },
  {
   "cell_type": "code",
   "execution_count": 50,
   "id": "5ebb221e-61ed-415a-907b-69a60a06761e",
   "metadata": {},
   "outputs": [
    {
     "data": {
      "image/png": "[encoded data removed]",
      "text/plain": [
       "<Figure size 864x504 with 1 Axes>"
      ]
     },
     "metadata": {
      "needs_background": "light"
     },
     "output_type": "display_data"
    }
   ],
   "source": [
    "import matplotlib.pyplot as plt\n",
    "\n",
    "fig = plt.figure(figsize=(12,7))\n",
    "ax = fig.add_subplot(1,1,1)\n",
    "ax.plot(temperature['平均気温(℃)'],label='original')\n",
    "ax.plot(ma,label='moving average')\n",
    "plt.legend()\n",
    "plt.show()"
   ]
  },
  {
   "cell_type": "code",
   "execution_count": 52,
   "id": "2e28d62c-0b2f-4342-a5d5-c0c6e75d88aa",
   "metadata": {},
   "outputs": [
    {
     "data": {
      "image/png": "[encoded data removed]",
      "text/plain": [
       "<Figure size 864x504 with 1 Axes>"
      ]
     },
     "metadata": {
      "needs_background": "light"
     },
     "output_type": "display_data"
    }
   ],
   "source": [
    "import pandas as pd\n",
    "import numpy as py\n",
    "import matplotlib.pyplot as plt\n",
    "\n",
    "temperature = pd.read_csv('data/02/temperature.csv')\n",
    "wma = np.convolve(\n",
    "    temperature['平均気温(℃)'],\n",
    "    [(30 - i) / (15 * 31) for i in range(30)]\n",
    ")\n",
    "ew = temperature['平均気温(℃)'].ewm(alpha=0.1).mean()\n",
    "\n",
    "fig = plt.figure(figsize=(12,7))\n",
    "ax = fig.add_subplot(1,1,1)\n",
    "ax.plot(temperature['平均気温(℃)'],label='original')\n",
    "ax.plot(wma,label='weighted moving average')\n",
    "ax.plot(ew,label='ew')\n",
    "plt.legend()\n",
    "plt.show()"
   ]
  },
  {
   "cell_type": "code",
   "execution_count": 53,
   "id": "f0d24045-9b08-417b-aec0-ffa7b7917982",
   "metadata": {},
   "outputs": [
    {
     "data": {
      "text/plain": [
       "array([2, 5, 6, 4, 2, 5, 2, 3, 2, 6])"
      ]
     },
     "execution_count": 53,
     "metadata": {},
     "output_type": "execute_result"
    }
   ],
   "source": [
    "import numpy as np\n",
    "dice = [1,2,3,4,5,6]\n",
    "np.random.choice(dice,10)"
   ]
  },
  {
   "cell_type": "code",
   "execution_count": 54,
   "id": "487b1179-170c-45e4-92d0-636cdad57e64",
   "metadata": {},
   "outputs": [
    {
     "data": {
      "text/plain": [
       "(array([1., 0., 1., 0., 1., 0., 4., 0., 1., 2.]),\n",
       " array([1. , 1.5, 2. , 2.5, 3. , 3.5, 4. , 4.5, 5. , 5.5, 6. ]),\n",
       " <BarContainer object of 10 artists>)"
      ]
     },
     "execution_count": 54,
     "metadata": {},
     "output_type": "execute_result"
    },
    {
     "data": {
      "image/png": "[encoded data removed]",
      "text/plain": [
       "<Figure size 432x288 with 1 Axes>"
      ]
     },
     "metadata": {
      "needs_background": "light"
     },
     "output_type": "display_data"
    }
   ],
   "source": [
    "import matplotlib.pyplot as plt\n",
    "np.random.seed(0)\n",
    "rand = np.random.choice(dice,10)\n",
    "\n",
    "plt.hist(rand)"
   ]
  },
  {
   "cell_type": "code",
   "execution_count": 55,
   "id": "1e720a28-dabd-47c1-826a-4dd96828298f",
   "metadata": {},
   "outputs": [
    {
     "data": {
      "text/plain": [
       "array([ 0.95008842, -0.15135721, -0.10321885,  0.4105985 ,  0.14404357,\n",
       "        1.45427351,  0.76103773,  0.12167502,  0.44386323,  0.33367433,\n",
       "        1.49407907, -0.20515826,  0.3130677 , -0.85409574, -2.55298982,\n",
       "        0.6536186 ,  0.8644362 , -0.74216502,  2.26975462, -1.45436567,\n",
       "        0.04575852, -0.18718385,  1.53277921,  1.46935877,  0.15494743,\n",
       "        0.37816252, -0.88778575, -1.98079647, -0.34791215,  0.15634897,\n",
       "        1.23029068,  1.20237985, -0.38732682, -0.30230275, -1.04855297,\n",
       "       -1.42001794, -1.70627019,  1.9507754 , -0.50965218, -0.4380743 ,\n",
       "       -1.25279536,  0.77749036, -1.61389785, -0.21274028, -0.89546656,\n",
       "        0.3869025 , -0.51080514, -1.18063218, -0.02818223,  0.42833187,\n",
       "        0.06651722,  0.3024719 , -0.63432209, -0.36274117, -0.67246045,\n",
       "       -0.35955316, -0.81314628, -1.7262826 ,  0.17742614, -0.40178094,\n",
       "       -1.63019835,  0.46278226, -0.90729836,  0.0519454 ,  0.72909056,\n",
       "        0.12898291,  1.13940068, -1.23482582,  0.40234164, -0.68481009,\n",
       "       -0.87079715, -0.57884966, -0.31155253,  0.05616534, -1.16514984,\n",
       "        0.90082649,  0.46566244, -1.53624369,  1.48825219,  1.89588918,\n",
       "        1.17877957, -0.17992484, -1.07075262,  1.05445173, -0.40317695,\n",
       "        1.22244507,  0.20827498,  0.97663904,  0.3563664 ,  0.70657317,\n",
       "        0.01050002,  1.78587049,  0.12691209,  0.40198936,  1.8831507 ,\n",
       "       -1.34775906, -1.270485  ,  0.96939671, -1.17312341,  1.94362119])"
      ]
     },
     "execution_count": 55,
     "metadata": {},
     "output_type": "execute_result"
    }
   ],
   "source": [
    "np.random.normal(0,1,100)"
   ]
  },
  {
   "cell_type": "code",
   "execution_count": 56,
   "id": "37426ba4-991d-47f6-ac52-5ef5aadd21c8",
   "metadata": {},
   "outputs": [],
   "source": [
    "data = [\n",
    "    [100000, 10000, 0],\n",
    "    [0.001, 0.009, 0.99]\n",
    "]"
   ]
  },
  {
   "cell_type": "code",
   "execution_count": 63,
   "id": "e8e7b85b-ee2a-4666-9c39-e7776e891f3c",
   "metadata": {},
   "outputs": [
    {
     "data": {
      "text/plain": [
       "190.0"
      ]
     },
     "execution_count": 63,
     "metadata": {},
     "output_type": "execute_result"
    }
   ],
   "source": [
    "sum([x_k * p_k for x_k, p_k in zip(data[0],data[1])])"
   ]
  },
  {
   "cell_type": "code",
   "execution_count": 67,
   "id": "3dd7d5bd-8ba3-4df6-b79d-674a1dedbfd6",
   "metadata": {},
   "outputs": [
    {
     "data": {
      "text/plain": [
       "2.9166666666666665"
      ]
     },
     "execution_count": 67,
     "metadata": {},
     "output_type": "execute_result"
    }
   ],
   "source": [
    "dice = [\n",
    "    [1, 2, 3, 4, 5, 6],\n",
    "    [1/6,1/6,1/6,1/6,1/6,1/6]\n",
    "]\n",
    "mean = sum([x_k * p_k for x_k, p_k in zip(dice[0],dice[1])])\n",
    "sum([(x_k - mean) ** 2 * p_k for [x_k, p_k] in zip(dice[0],dice[1])])"
   ]
  },
  {
   "cell_type": "code",
   "execution_count": 70,
   "id": "0d3a4198-4ac5-4e7f-b6d9-e8f64d63ec84",
   "metadata": {},
   "outputs": [
    {
     "data": {
      "text/plain": [
       "(0.75, 8.326672684688674e-15)"
      ]
     },
     "execution_count": 70,
     "metadata": {},
     "output_type": "execute_result"
    }
   ],
   "source": [
    "def f(x):\n",
    "    if x < 0:\n",
    "        return 0\n",
    "    elif x < 1:\n",
    "        return x\n",
    "    elif x < 2:\n",
    "        return - x + 2\n",
    "    else:\n",
    "        return 0\n",
    "\n",
    "from scipy import integrate\n",
    "\n",
    "integrate.quad(f,0.5,1.5)"
   ]
  },
  {
   "cell_type": "code",
   "execution_count": 71,
   "id": "2d982a10-dfbf-43a6-a4dd-4d0810cd7636",
   "metadata": {},
   "outputs": [
    {
     "data": {
      "text/plain": [
       "(1.0000000000000009, 1.4494627720296194e-10)"
      ]
     },
     "execution_count": 71,
     "metadata": {},
     "output_type": "execute_result"
    }
   ],
   "source": [
    "integrate.quad(f,-np.inf,np.inf)"
   ]
  },
  {
   "cell_type": "code",
   "execution_count": 74,
   "id": "13ee54ce-8cd4-4a58-92df-cd2eafd7dae0",
   "metadata": {},
   "outputs": [],
   "source": [
    "def F(x):\n",
    "    return integrate.quad(f, -np.inf, x)[0]\n"
   ]
  },
  {
   "cell_type": "code",
   "execution_count": 75,
   "id": "67e2fa6d-abf5-4d58-aad8-e075ab286621",
   "metadata": {},
   "outputs": [
    {
     "data": {
      "text/plain": [
       "0.750000000001469"
      ]
     },
     "execution_count": 75,
     "metadata": {},
     "output_type": "execute_result"
    }
   ],
   "source": [
    "F(1.5) - F(0.5)"
   ]
  },
  {
   "cell_type": "code",
   "execution_count": 76,
   "id": "5698b1e2-ec31-4824-9447-afa76328d17c",
   "metadata": {},
   "outputs": [
    {
     "data": {
      "text/plain": [
       "(1.0000000000000033, 7.011253799760198e-10)"
      ]
     },
     "execution_count": 76,
     "metadata": {},
     "output_type": "execute_result"
    }
   ],
   "source": [
    "def calc(x):\n",
    "    return x * f(x)\n",
    "integrate.quad(calc, -np.inf, np.inf)"
   ]
  },
  {
   "cell_type": "code",
   "execution_count": 78,
   "id": "34cbf8a9-34cc-4700-81d6-0e85e553b37d",
   "metadata": {},
   "outputs": [
    {
     "data": {
      "text/plain": [
       "(0.16666666666665894, 1.5226069571827594e-09)"
      ]
     },
     "execution_count": 78,
     "metadata": {},
     "output_type": "execute_result"
    }
   ],
   "source": [
    "ex = integrate.quad(calc, -np.inf, np.inf)[0]\n",
    "def diff(x):\n",
    "    return (x - ex) ** 2 * f(x)\n",
    "integrate.quad(diff, -np.inf, np.inf)"
   ]
  },
  {
   "cell_type": "code",
   "execution_count": 79,
   "id": "b8b91cb1-a516-48f9-9574-a9d1d2a133fe",
   "metadata": {},
   "outputs": [
    {
     "data": {
      "text/plain": [
       "0.9494974165258963"
      ]
     },
     "execution_count": 79,
     "metadata": {},
     "output_type": "execute_result"
    }
   ],
   "source": [
    "from scipy.stats import norm\n",
    "norm.cdf(1.64)"
   ]
  },
  {
   "cell_type": "code",
   "execution_count": 81,
   "id": "37a20829-6289-43ff-8419-3ca66553855c",
   "metadata": {},
   "outputs": [
    {
     "data": {
      "text/plain": [
       "1.6448536269514722"
      ]
     },
     "execution_count": 81,
     "metadata": {},
     "output_type": "execute_result"
    }
   ],
   "source": [
    "norm.ppf(0.95)"
   ]
  },
  {
   "cell_type": "code",
   "execution_count": 82,
   "id": "caf487a9-2c18-436e-b100-50a989c502f9",
   "metadata": {},
   "outputs": [
    {
     "data": {
      "text/plain": [
       "0.10396109532876424"
      ]
     },
     "execution_count": 82,
     "metadata": {},
     "output_type": "execute_result"
    }
   ],
   "source": [
    "norm.pdf(1.64)"
   ]
  },
  {
   "cell_type": "code",
   "execution_count": 86,
   "id": "3b2179c0-281a-406b-a4b5-a302fa838c5a",
   "metadata": {},
   "outputs": [
    {
     "name": "stdout",
     "output_type": "stream",
     "text": [
      "3.145107743033602\n",
      "3.7148922569663982\n"
     ]
    }
   ],
   "source": [
    "import numpy as np\n",
    "dice = [1,2,3,4,5,6]\n",
    "population = np.random.choice(dice, 1000)\n",
    "var = np.var(population)\n",
    "\n",
    "from scipy.stats import norm\n",
    "\n",
    "n=100\n",
    "\n",
    "sample = np.random.choice(population,n)\n",
    "m = sample.mean()\n",
    "z = norm.ppf(0.95)\n",
    "print(m - z * np.sqrt(var / n))\n",
    "print(m + z * np.sqrt(var / n))"
   ]
  },
  {
   "cell_type": "code",
   "execution_count": 87,
   "id": "8762fe98-1719-4271-8ae5-ce82dea9af0a",
   "metadata": {},
   "outputs": [
    {
     "name": "stdout",
     "output_type": "stream",
     "text": [
      "2.5638423437467033\n",
      "4.136157656253297\n"
     ]
    }
   ],
   "source": [
    "import numpy as np\n",
    "from scipy.stats import t\n",
    "\n",
    "dice = [1,2,3,4,5,6]\n",
    "n=20\n",
    "\n",
    "sample = np.random.choice(dice,n)\n",
    "m = np.mean(sample)\n",
    "var = np.var(sample,ddof=1)\n",
    "z = t.ppf(0.95, n - 1)\n",
    "print(m - z * np.sqrt(var / n))\n",
    "print(m + z * np.sqrt(var / n))"
   ]
  },
  {
   "cell_type": "code",
   "execution_count": 88,
   "id": "ffaaec73-686b-4911-8401-274150b7dedc",
   "metadata": {},
   "outputs": [
    {
     "data": {
      "text/plain": [
       "BayesianRidge()"
      ]
     },
     "execution_count": 88,
     "metadata": {},
     "output_type": "execute_result"
    }
   ],
   "source": [
    "from sklearn import linear_model\n",
    "import numpy as np\n",
    "dist = [\n",
    "    [0]*190 + [1]*30,\n",
    "    [0]*10 + [1]*20\n",
    "]\n",
    "sample = [\n",
    "    np.random.choice(dist[0],20),\n",
    "    np.random.choice(dist[1],20)\n",
    "]\n",
    "mail = [0,1]\n",
    "reg = linear_model.BayesianRidge()\n",
    "reg.fit(sample,mail)"
   ]
  },
  {
   "cell_type": "code",
   "execution_count": 89,
   "id": "f649276f-4c51-4a44-9f03-a7dc146786b7",
   "metadata": {},
   "outputs": [
    {
     "data": {
      "text/plain": [
       "array([0.333334])"
      ]
     },
     "execution_count": 89,
     "metadata": {},
     "output_type": "execute_result"
    }
   ],
   "source": [
    "reg.predict([np.random.choice(dist[0],20)])"
   ]
  },
  {
   "cell_type": "code",
   "execution_count": 92,
   "id": "74a442f7-9af3-4bc7-a905-b03861cb29d0",
   "metadata": {},
   "outputs": [
    {
     "data": {
      "text/plain": [
       "array([0.250001])"
      ]
     },
     "execution_count": 92,
     "metadata": {},
     "output_type": "execute_result"
    }
   ],
   "source": [
    "reg.predict([np.random.choice(dist[1],20)])"
   ]
  },
  {
   "cell_type": "code",
   "execution_count": 93,
   "id": "75f600dc-205f-4ea3-b08c-fb8544a21690",
   "metadata": {},
   "outputs": [
    {
     "data": {
      "text/plain": [
       "[0, 0, 0, 0, 0, 0, 0, 0, 0, 0]"
      ]
     },
     "execution_count": 93,
     "metadata": {},
     "output_type": "execute_result"
    }
   ],
   "source": [
    "[0]*10"
   ]
  },
  {
   "cell_type": "code",
   "execution_count": 1,
   "id": "b0daec8b-36b1-4936-a824-606b24ec40e2",
   "metadata": {},
   "outputs": [
    {
     "data": {
      "text/plain": [
       "[-1.9599639845400545, 1.959963984540054]"
      ]
     },
     "execution_count": 1,
     "metadata": {},
     "output_type": "execute_result"
    }
   ],
   "source": [
    "from scipy.stats import norm\n",
    "[norm.ppf(0.025),norm.ppf(0.975)]"
   ]
  },
  {
   "cell_type": "code",
   "execution_count": 3,
   "id": "7f4528e4-a531-4ca3-bcc2-9cb0e231bb98",
   "metadata": {},
   "outputs": [
    {
     "data": {
      "text/plain": [
       "30.339999999999996"
      ]
     },
     "execution_count": 3,
     "metadata": {},
     "output_type": "execute_result"
    }
   ],
   "source": [
    "import numpy as np\n",
    "data = [29.2,29.8,31.2,32.1,28.8,30.1,30.9,29.4,30.7,31.2]\n",
    "m = np.mean(data)\n",
    "m"
   ]
  },
  {
   "cell_type": "code",
   "execution_count": 6,
   "id": "1a355e72-6202-4769-abec-c345b343420b",
   "metadata": {},
   "outputs": [
    {
     "data": {
      "text/plain": [
       "0.8778762251403383"
      ]
     },
     "execution_count": 6,
     "metadata": {},
     "output_type": "execute_result"
    }
   ],
   "source": [
    "n = len(data)\n",
    "z_value = (m - 30.0) / np.sqrt(1.5 / n)\n",
    "z_value"
   ]
  },
  {
   "cell_type": "code",
   "execution_count": 7,
   "id": "4b1f48ce-ae44-4d14-b4eb-fa8a81ab093e",
   "metadata": {},
   "outputs": [
    {
     "name": "stdout",
     "output_type": "stream",
     "text": [
      "0.27137005674469505\n"
     ]
    }
   ],
   "source": [
    "p_value = norm.pdf(z_value)\n",
    "print(p_value)"
   ]
  },
  {
   "cell_type": "code",
   "execution_count": 8,
   "id": "2cefdcd8-f861-4da2-8b43-5e1bbfa0f607",
   "metadata": {},
   "outputs": [
    {
     "data": {
      "text/plain": [
       "0.8099945536751224"
      ]
     },
     "execution_count": 8,
     "metadata": {},
     "output_type": "execute_result"
    }
   ],
   "source": [
    "norm.cdf(z_value)"
   ]
  },
  {
   "cell_type": "code",
   "execution_count": 11,
   "id": "7c3208b9-8e1d-4fea-bb0f-f67e9c77a1e3",
   "metadata": {},
   "outputs": [
    {
     "data": {
      "image/png": "[encoded data removed]",
      "text/plain": [
       "<Figure size 432x288 with 1 Axes>"
      ]
     },
     "metadata": {
      "needs_background": "light"
     },
     "output_type": "display_data"
    }
   ],
   "source": [
    "from matplotlib import pyplot as plt\n",
    "\n",
    "x = np.linspace(-4,4,1000)\n",
    "fig,ax = plt.subplots(1,1)\n",
    "\n",
    "ax.plot(x, norm.pdf(x), linestyle='-', label='n='+str(n))\n",
    "\n",
    "ax.plot(\n",
    "    z_value,\n",
    "    p_value, \n",
    "    'x', \n",
    "    color='red', \n",
    "    markersize=7,\n",
    "    markeredgewidth=2,\n",
    "    alpha=0.8,\n",
    "    label='data'\n",
    "    )\n",
    "\n",
    "bottom, up = norm.interval(alpha=0.95,loc=0,scale=1)\n",
    "\n",
    "plt.fill_between(\n",
    "    x,\n",
    "    norm.pdf(x),\n",
    "    0,\n",
    "    where=(x>=up)|(x<=bottom),\n",
    "    facecolor='black',\n",
    "    alpha=0.1\n",
    ")\n",
    "\n",
    "plt.xlim(-4,4)\n",
    "plt.ylim(0,0.4)\n",
    "\n",
    "plt.legend()\n",
    "plt.show()"
   ]
  },
  {
   "cell_type": "code",
   "execution_count": 12,
   "id": "7d209a27-2b87-4c4d-98fe-7720b7ea65c7",
   "metadata": {},
   "outputs": [
    {
     "data": {
      "text/plain": [
       "[-2.446911848791681, 2.4469118487916806]"
      ]
     },
     "execution_count": 12,
     "metadata": {},
     "output_type": "execute_result"
    }
   ],
   "source": [
    "from scipy.stats import t\n",
    "\n",
    "data = [25.1,23.9,25.2,24.6,24.3,24.8,23.8]\n",
    "n = len(data)\n",
    "[t.ppf(0.025,n-1),t.ppf(0.975,n-1)]"
   ]
  },
  {
   "cell_type": "code",
   "execution_count": 13,
   "id": "79ab17bc-7417-4bc5-becb-69df8c16ae7e",
   "metadata": {},
   "outputs": [
    {
     "data": {
      "text/plain": [
       "[24.528571428571432, 0.305714285714286]"
      ]
     },
     "execution_count": 13,
     "metadata": {},
     "output_type": "execute_result"
    }
   ],
   "source": [
    "m = np.mean(data)\n",
    "var = np.var(data,ddof=1)\n",
    "[m,var]"
   ]
  },
  {
   "cell_type": "code",
   "execution_count": 14,
   "id": "e319919a-e008-4003-870c-68a122ed2789",
   "metadata": {},
   "outputs": [
    {
     "data": {
      "text/plain": [
       "-2.2558335591813714"
      ]
     },
     "execution_count": 14,
     "metadata": {},
     "output_type": "execute_result"
    }
   ],
   "source": [
    "t_value = (m - 25.0) / np.sqrt(var / n)\n",
    "t_value"
   ]
  },
  {
   "cell_type": "code",
   "execution_count": 15,
   "id": "74fdd963-a082-47b2-87b3-7236e589a6ca",
   "metadata": {},
   "outputs": [
    {
     "data": {
      "text/plain": [
       "0.044599619186936175"
      ]
     },
     "execution_count": 15,
     "metadata": {},
     "output_type": "execute_result"
    }
   ],
   "source": [
    "p_value = t.pdf(t_value, n - 1)\n",
    "p_value"
   ]
  },
  {
   "cell_type": "code",
   "execution_count": 17,
   "id": "7a5bde00-dcdb-4b5d-93ef-2b843b62103d",
   "metadata": {},
   "outputs": [
    {
     "data": {
      "text/plain": [
       "0.032459343192850335"
      ]
     },
     "execution_count": 17,
     "metadata": {},
     "output_type": "execute_result"
    }
   ],
   "source": [
    "t.cdf(t_value,n-1)"
   ]
  },
  {
   "cell_type": "code",
   "execution_count": 21,
   "id": "f8dcfd7c-af65-4ae8-a43a-195fc94f830f",
   "metadata": {},
   "outputs": [
    {
     "data": {
      "image/png": "[encoded data removed]",
      "text/plain": [
       "<Figure size 432x288 with 1 Axes>"
      ]
     },
     "metadata": {
      "needs_background": "light"
     },
     "output_type": "display_data"
    }
   ],
   "source": [
    "from matplotlib import pyplot as plt\n",
    "\n",
    "x = np.linspace(-4,4,1000)\n",
    "fig,ax = plt.subplots(1,1)\n",
    "\n",
    "ax.plot(x, t.pdf(x, n-1),linestyle='-',label='n='+str(n))\n",
    "ax.plot(t_value,p_value,'x',color='red',markersize=7,markeredgewidth=2,alpha=0.8,label='data')\n",
    "\n",
    "bottom,up = t.interval(0.95,n-1)\n",
    "plt.fill_between(x,t.pdf(x,n-1),0,where=(x>=up)|(x<=bottom),facecolor='black',alpha=0.1)\n",
    "\n",
    "plt.xlim(-4,4)\n",
    "plt.ylim(0,0.4)\n",
    "\n",
    "plt.legend()\n",
    "plt.show()"
   ]
  },
  {
   "cell_type": "code",
   "execution_count": 23,
   "id": "5433f96e-2b0a-4530-8805-f10c5e469bbc",
   "metadata": {},
   "outputs": [
    {
     "data": {
      "text/plain": [
       "Ttest_1sampResult(statistic=-2.2558335591813714, pvalue=0.06491868638570067)"
      ]
     },
     "execution_count": 23,
     "metadata": {},
     "output_type": "execute_result"
    }
   ],
   "source": [
    "from scipy import stats\n",
    "data = [25.1,23.9,25.2,24.6,24.3,24.8,23.8]\n",
    "stats.ttest_1samp(data,25.0)"
   ]
  },
  {
   "cell_type": "code",
   "execution_count": 25,
   "id": "6f180c79-3fce-48f0-8ec3-3a5b4a19e843",
   "metadata": {},
   "outputs": [
    {
     "data": {
      "text/plain": [
       "1.894578605061305"
      ]
     },
     "execution_count": 25,
     "metadata": {},
     "output_type": "execute_result"
    }
   ],
   "source": [
    "from scipy.stats import t\n",
    "data = [2,11,-2,2,4,4,4,8]\n",
    "n=len(data)\n",
    "t.ppf(0.95,n-1)"
   ]
  },
  {
   "cell_type": "code",
   "execution_count": 26,
   "id": "a32a4ed5-f560-46f8-b1fe-a531b2337033",
   "metadata": {},
   "outputs": [
    {
     "data": {
      "text/plain": [
       "[4.125, 15.553571428571429]"
      ]
     },
     "execution_count": 26,
     "metadata": {},
     "output_type": "execute_result"
    }
   ],
   "source": [
    "import numpy as np\n",
    "m = np.mean(data)\n",
    "var = np.var(data,ddof=1)\n",
    "[m,var]\n"
   ]
  },
  {
   "cell_type": "code",
   "execution_count": 27,
   "id": "8e17682e-07df-4a59-baaf-4e15e82e87dc",
   "metadata": {},
   "outputs": [
    {
     "data": {
      "text/plain": [
       "2.9583794862804544"
      ]
     },
     "execution_count": 27,
     "metadata": {},
     "output_type": "execute_result"
    }
   ],
   "source": [
    "t_value = m / np.sqrt(var / n)\n",
    "t_value"
   ]
  },
  {
   "cell_type": "code",
   "execution_count": 28,
   "id": "98c44735-cc70-49e9-a222-37148cc94910",
   "metadata": {},
   "outputs": [
    {
     "data": {
      "text/plain": [
       "0.015014104013924749"
      ]
     },
     "execution_count": 28,
     "metadata": {},
     "output_type": "execute_result"
    }
   ],
   "source": [
    "p_value = t.pdf(t_value,n-1)\n",
    "p_value"
   ]
  },
  {
   "cell_type": "code",
   "execution_count": 29,
   "id": "4c9bdb9b-becf-4b8b-a955-527d9255bbd7",
   "metadata": {},
   "outputs": [
    {
     "data": {
      "text/plain": [
       "0.9894231697839247"
      ]
     },
     "execution_count": 29,
     "metadata": {},
     "output_type": "execute_result"
    }
   ],
   "source": [
    "t.cdf(t_value,n-1)"
   ]
  },
  {
   "cell_type": "code",
   "execution_count": 33,
   "id": "6394276c-e1bb-472c-9d90-4334281534be",
   "metadata": {},
   "outputs": [
    {
     "data": {
      "image/png": "[encoded data removed]",
      "text/plain": [
       "<Figure size 432x288 with 1 Axes>"
      ]
     },
     "metadata": {
      "needs_background": "light"
     },
     "output_type": "display_data"
    }
   ],
   "source": [
    "from matplotlib import pyplot as plt\n",
    "x = np.linspace(-4,4,1000)\n",
    "fig,ax = plt.subplots(1,1)\n",
    "ax.plot(x,t.pdf(x,n-1),linestyle='-',label='n='+str(n))\n",
    "ax.plot(t_value,p_value,'x',color='red',markersize=7,markeredgewidth=2,alpha=0.8,label='data')\n",
    "bottom,up = t.interval(0.90,n-1)\n",
    "plt.fill_between(x,t.pdf(x,n-1),0,where=(x>=up),facecolor='black',alpha=0.1)\n",
    "plt.xlim(-4,4)\n",
    "plt.ylim(0,0.4)\n",
    "plt.legend()\n",
    "plt.show()"
   ]
  },
  {
   "cell_type": "code",
   "execution_count": 34,
   "id": "2c4d3c4e-476f-42b7-b993-65b89819ad02",
   "metadata": {},
   "outputs": [
    {
     "data": {
      "text/plain": [
       "Ttest_relResult(statistic=-2.9583794862804544, pvalue=0.02115366043215051)"
      ]
     },
     "execution_count": 34,
     "metadata": {},
     "output_type": "execute_result"
    }
   ],
   "source": [
    "from scipy import stats\n",
    "before = [80,75,63,88,91,58,67,72]\n",
    "after = [82,86,61,90,95,62,71,80]\n",
    "stats.ttest_rel(before,after)"
   ]
  },
  {
   "cell_type": "code",
   "execution_count": 35,
   "id": "e839e364-a98b-4c50-959e-ca30795b1711",
   "metadata": {},
   "outputs": [
    {
     "data": {
      "text/plain": [
       "1.74588367627624"
      ]
     },
     "execution_count": 35,
     "metadata": {},
     "output_type": "execute_result"
    }
   ],
   "source": [
    "from scipy.stats import t\n",
    "x_1 = [15,18,17,18,19,17,16,20,19,14]\n",
    "x_2 = [17,20,15,18,16,15,17,18]\n",
    "n_1 = len(x_1)\n",
    "n_2 = len(x_2)\n",
    "t.ppf(0.95,n_1+n_2-2)"
   ]
  },
  {
   "cell_type": "code",
   "execution_count": 36,
   "id": "65d0cf35-5800-4c6f-b35e-d658209100d1",
   "metadata": {},
   "outputs": [
    {
     "data": {
      "text/plain": [
       "[17.3, 17.0, 3.566666666666667, 2.857142857142857]"
      ]
     },
     "execution_count": 36,
     "metadata": {},
     "output_type": "execute_result"
    }
   ],
   "source": [
    "import numpy as np\n",
    "m_1 = np.mean(x_1)\n",
    "m_2 = np.mean(x_2)\n",
    "s_1 = np.var(x_1,ddof=1)\n",
    "s_2 = np.var(x_2,ddof=1)\n",
    "[m_1,m_2,s_1,s_2]"
   ]
  },
  {
   "cell_type": "code",
   "execution_count": 37,
   "id": "f9087cd3-7489-4187-bd07-ae5cdcd7e18d",
   "metadata": {},
   "outputs": [
    {
     "data": {
      "text/plain": [
       "0.35048636347065965"
      ]
     },
     "execution_count": 37,
     "metadata": {},
     "output_type": "execute_result"
    }
   ],
   "source": [
    "t_value = (m_1 - m_2) / np.sqrt(\n",
    "    (1/n_1 + 1/n_2) * \n",
    "    ((n_1-1)*s_1 + (n_2 - 1)*s_2) /\n",
    "    (n_1+n_2-2)\n",
    ")\n",
    "t_value"
   ]
  },
  {
   "cell_type": "code",
   "execution_count": 39,
   "id": "15d925fd-bb0e-4618-9dcc-8266f8c106c3",
   "metadata": {},
   "outputs": [
    {
     "data": {
      "text/plain": [
       "0.368040134751903"
      ]
     },
     "execution_count": 39,
     "metadata": {},
     "output_type": "execute_result"
    }
   ],
   "source": [
    "p_value = t.pdf(t_value,n_1+n_2-2)\n",
    "p_value"
   ]
  },
  {
   "cell_type": "code",
   "execution_count": 40,
   "id": "c826fedc-095d-4a49-ac28-1686f68e554a",
   "metadata": {},
   "outputs": [
    {
     "data": {
      "text/plain": [
       "0.6347272729659612"
      ]
     },
     "execution_count": 40,
     "metadata": {},
     "output_type": "execute_result"
    }
   ],
   "source": [
    "t.cdf(t_value,n_1+n_2-2)"
   ]
  },
  {
   "cell_type": "code",
   "execution_count": 41,
   "id": "71effa0d-1e3a-415e-b7b1-ce43159585ec",
   "metadata": {},
   "outputs": [
    {
     "data": {
      "text/plain": [
       "Ttest_indResult(statistic=0.35048636347065965, pvalue=0.7305454540680775)"
      ]
     },
     "execution_count": 41,
     "metadata": {},
     "output_type": "execute_result"
    }
   ],
   "source": [
    "from scipy import stats\n",
    "x_1 = [15,18,17,18,19,17,16,20,19,14]\n",
    "x_2 = [17,20,15,18,16,15,17,18]\n",
    "stats.ttest_ind(x_1,x_2)"
   ]
  },
  {
   "cell_type": "code",
   "execution_count": 42,
   "id": "71ed2b28-4f69-4932-935f-6b203c1c92a9",
   "metadata": {},
   "outputs": [
    {
     "data": {
      "text/plain": [
       "(3.325112843066815, 16.918977604620448)"
      ]
     },
     "execution_count": 42,
     "metadata": {},
     "output_type": "execute_result"
    }
   ],
   "source": [
    "from scipy.stats import chi2\n",
    "chi2.interval(0.90,9)"
   ]
  },
  {
   "cell_type": "code",
   "execution_count": 43,
   "id": "dc5cacae-1cca-4996-9262-037235c9bfd3",
   "metadata": {},
   "outputs": [
    {
     "data": {
      "text/plain": [
       "17.013333333333332"
      ]
     },
     "execution_count": 43,
     "metadata": {},
     "output_type": "execute_result"
    }
   ],
   "source": [
    "import numpy as np\n",
    "data = [31,42,29,51,45,42,37,48,39,50]\n",
    "n = len(data)\n",
    "chi_value = (n-1)*np.var(data,ddof=1) / 30\n",
    "chi_value"
   ]
  },
  {
   "cell_type": "code",
   "execution_count": 44,
   "id": "57ed8a3f-71f1-4a39-8dcf-40499d4dffa5",
   "metadata": {},
   "outputs": [
    {
     "data": {
      "image/png": "[encoded data removed]",
      "text/plain": [
       "<Figure size 432x288 with 1 Axes>"
      ]
     },
     "metadata": {
      "needs_background": "light"
     },
     "output_type": "display_data"
    }
   ],
   "source": [
    "from matplotlib import pyplot as plt\n",
    "import numpy as np\n",
    "from scipy.stats import chi2\n",
    "p_value = chi2.pdf(chi_value,n-1)\n",
    "x = np.linspace(0,20,1000)\n",
    "fig,ax = plt.subplots(1,1)\n",
    "ax.plot(x,chi2.pdf(x,n-1),linestyle='-',label='n='+str(n-1))\n",
    "ax.plot(chi_value,p_value,'x',color='red',markersize=7,markeredgewidth=2,alpha=0.8,label='data')\n",
    "bottom,up = chi2.interval(0.90,n-1)\n",
    "plt.fill_between(x,chi2.pdf(x,n-1),0,where=(x>=up)|(x<=bottom),facecolor='black',alpha=0.1)\n",
    "plt.xlim(0,20)\n",
    "plt.ylim(0,0.12)\n",
    "plt.legend()\n",
    "plt.show()"
   ]
  },
  {
   "cell_type": "code",
   "execution_count": 45,
   "id": "0c65e93b-7012-4744-89dc-c864f4a1f32a",
   "metadata": {},
   "outputs": [
    {
     "data": {
      "text/plain": [
       "[0.25179256473579126, 4.875871695833996]"
      ]
     },
     "execution_count": 45,
     "metadata": {},
     "output_type": "execute_result"
    }
   ],
   "source": [
    "from scipy.stats import f\n",
    "a = [1400,1800,1100,2500,1300,2200,1900,1600]\n",
    "b = [1500,1800,2200,1200,2000,1700]\n",
    "n_1 = len(a)\n",
    "n_2 = len(b)\n",
    "[f.ppf(0.05,n_1-1,n_2-1),f.ppf(0.95,n_1-1,n_2-1)]"
   ]
  },
  {
   "cell_type": "code",
   "execution_count": 46,
   "id": "35a5d92c-9db9-4ac6-beac-61668235f333",
   "metadata": {},
   "outputs": [
    {
     "data": {
      "text/plain": [
       "1.7537593984962407"
      ]
     },
     "execution_count": 46,
     "metadata": {},
     "output_type": "execute_result"
    }
   ],
   "source": [
    "import numpy as np\n",
    "s_a = np.var(a,ddof=1)\n",
    "s_b = np.var(b,ddof=1)\n",
    "f_value = s_a / s_b\n",
    "f_value"
   ]
  },
  {
   "cell_type": "code",
   "execution_count": 47,
   "id": "95d142ca-0622-429e-a5b0-e9beb554ef3c",
   "metadata": {},
   "outputs": [
    {
     "data": {
      "image/png": "[encoded data removed]",
      "text/plain": [
       "<Figure size 432x288 with 1 Axes>"
      ]
     },
     "metadata": {
      "needs_background": "light"
     },
     "output_type": "display_data"
    }
   ],
   "source": [
    "from matplotlib import pyplot as plt\n",
    "import numpy as np\n",
    "p_value = f.pdf(f_value,n_1-1,n_2-1)\n",
    "x = np.linspace(0,6,1000)\n",
    "fig,ax = plt.subplots(1,1)\n",
    "ax.plot(x,f.pdf(x,n_1-1,n_2-1),linestyle='-',label='F')\n",
    "ax.plot(f_value,p_value,'x',color='red',markersize=7,markeredgewidth=2,alpha=0.8,label='data')\n",
    "bottom,up = f.interval(0.90,n_1-1,n_2-1)\n",
    "plt.fill_between(x,f.pdf(x,n_1-1,n_2-1),0,where=(x>=up)|(x<=bottom),facecolor='black',alpha=0.1)\n",
    "plt.xlim(0,6)\n",
    "plt.ylim(0,1)\n",
    "plt.legend()\n",
    "plt.show()"
   ]
  },
  {
   "cell_type": "code",
   "execution_count": 48,
   "id": "7aad2d3d-702a-40a6-b240-14856e0fe72d",
   "metadata": {},
   "outputs": [
    {
     "data": {
      "text/plain": [
       "(0.0009820691171752583, 5.023886187314888)"
      ]
     },
     "execution_count": 48,
     "metadata": {},
     "output_type": "execute_result"
    }
   ],
   "source": [
    "from scipy.stats import chi2\n",
    "chi2.interval(0.95,1)"
   ]
  },
  {
   "cell_type": "code",
   "execution_count": 49,
   "id": "c0a7e63b-122d-4f67-bd44-fc93b9a70c96",
   "metadata": {},
   "outputs": [
    {
     "data": {
      "text/plain": [
       "(2.1548821548821544,\n",
       " 0.1421173468226269,\n",
       " 1,\n",
       " array([[6.6, 5.4],\n",
       "        [4.4, 3.6]]))"
      ]
     },
     "execution_count": 49,
     "metadata": {},
     "output_type": "execute_result"
    }
   ],
   "source": [
    "import scipy.stats as st\n",
    "data = [[5,7],[6,2]]\n",
    "st.chi2_contingency(data,correction=False)"
   ]
  },
  {
   "cell_type": "code",
   "execution_count": 50,
   "id": "bac57853-121f-47e4-b7f3-42254c7db5f7",
   "metadata": {},
   "outputs": [
    {
     "data": {
      "text/plain": [
       "(1.6353828943279065, 12.591587243743977)"
      ]
     },
     "execution_count": 50,
     "metadata": {},
     "output_type": "execute_result"
    }
   ],
   "source": [
    "from scipy.stats import chi2\n",
    "chi2.interval(0.90,6)"
   ]
  },
  {
   "cell_type": "code",
   "execution_count": 52,
   "id": "2ace70ad-10d4-4849-a114-d295b3055adb",
   "metadata": {},
   "outputs": [
    {
     "data": {
      "text/plain": [
       "16.6"
      ]
     },
     "execution_count": 52,
     "metadata": {},
     "output_type": "execute_result"
    }
   ],
   "source": [
    "import numpy as np\n",
    "data = [31,16,14,15,13,22,29]\n",
    "m = np.mean(data)\n",
    "chi_value = sum([(i-m) ** 2 / m for i in data])\n",
    "chi_value"
   ]
  },
  {
   "cell_type": "code",
   "execution_count": 53,
   "id": "a4457c53-ba36-4818-9a78-6371142e4a6e",
   "metadata": {},
   "outputs": [
    {
     "data": {
      "image/png": "[encoded data removed]",
      "text/plain": [
       "<Figure size 432x288 with 1 Axes>"
      ]
     },
     "metadata": {
      "needs_background": "light"
     },
     "output_type": "display_data"
    }
   ],
   "source": [
    "from matplotlib import pyplot as plt\n",
    "import numpy as np\n",
    "from scipy.stats import chi2\n",
    "\n",
    "n = len(data)\n",
    "p_value = chi2.pdf(chi_value,n-1)\n",
    "\n",
    "x = np.linspace(0,20,1000)\n",
    "fig,ax = plt.subplots(1,1)\n",
    "ax.plot(x,chi2.pdf(x,n-1),linestyle='-',label='n='+str(n-1))\n",
    "ax.plot(chi_value,p_value,'x',color='red',markersize=7,markeredgewidth=2,alpha=0.8,label='data')\n",
    "bottom,up = chi2.interval(0.90,n-1)\n",
    "plt.fill_between(x,chi2.pdf(x,n-1),0,where=(x>=up)|(x<=bottom),\n",
    "                facecolor='black',alpha=0.1)\n",
    "plt.xlim(0,20)\n",
    "plt.ylim(0,0.15)\n",
    "\n",
    "plt.legend()\n",
    "plt.show()"
   ]
  },
  {
   "cell_type": "code",
   "execution_count": 54,
   "id": "96d190f8-7525-4047-837f-7aa83f3d7e79",
   "metadata": {},
   "outputs": [
    {
     "data": {
      "text/plain": [
       "Power_divergenceResult(statistic=16.6, pvalue=0.010871368601837355)"
      ]
     },
     "execution_count": 54,
     "metadata": {},
     "output_type": "execute_result"
    }
   ],
   "source": [
    "from scipy import stats\n",
    "stats.chisquare([31,16,14,15,13,22,29])"
   ]
  },
  {
   "cell_type": "code",
   "execution_count": 55,
   "id": "080eceee-9087-435e-97c1-c57f40e2f09e",
   "metadata": {},
   "outputs": [
    {
     "data": {
      "text/plain": [
       "3.658333333333333"
      ]
     },
     "execution_count": 55,
     "metadata": {},
     "output_type": "execute_result"
    }
   ],
   "source": [
    "import numpy as np\n",
    "data = [31,16,14,15,13,22,29]\n",
    "expected = [30,15,15,15,15,20,40]\n",
    "chi_value = sum([(i-j) ** 2 / j for i,j in zip(data,expected)])\n",
    "chi_value"
   ]
  },
  {
   "cell_type": "code",
   "execution_count": 56,
   "id": "ae2b6113-eae6-4f77-835b-4ec972963c82",
   "metadata": {},
   "outputs": [
    {
     "data": {
      "image/png": "[encoded data removed]",
      "text/plain": [
       "<Figure size 432x288 with 1 Axes>"
      ]
     },
     "metadata": {
      "needs_background": "light"
     },
     "output_type": "display_data"
    }
   ],
   "source": [
    "from matplotlib import pyplot as plt\n",
    "import numpy as np\n",
    "from scipy.stats import chi2\n",
    "\n",
    "n = len(data)\n",
    "p_value = chi2.pdf(chi_value,n-1)\n",
    "\n",
    "x = np.linspace(0,20,1000)\n",
    "fig,ax = plt.subplots(1,1)\n",
    "ax.plot(x,chi2.pdf(x,n-1),linestyle='-',label='n='+str(n-1))\n",
    "ax.plot(chi_value,p_value,'x',color='red',markersize=7,markeredgewidth=2,alpha=0.8,label='data')\n",
    "bottom,up = chi2.interval(0.90,n-1)\n",
    "plt.fill_between(x,chi2.pdf(x,n-1),0,where=(x>=up)|(x<=bottom),\n",
    "                facecolor='black',alpha=0.1)\n",
    "plt.xlim(0,20)\n",
    "plt.ylim(0,0.15)\n",
    "\n",
    "plt.legend()\n",
    "plt.show()"
   ]
  },
  {
   "cell_type": "code",
   "execution_count": 59,
   "id": "ff34ffc5-0626-4dd8-a591-de8dd77fd009",
   "metadata": {},
   "outputs": [
    {
     "ename": "ValueError",
     "evalue": "For each axis slice, the sum of the observed frequencies must agree with the sum of the expected frequencies to a relative tolerance of 1e-08, but the percent differences are:\n0.07142857142857142",
     "output_type": "error",
     "traceback": [
      "\u001b[0;31m---------------------------------------------------------------------------\u001b[0m",
      "\u001b[0;31mValueError\u001b[0m                                Traceback (most recent call last)",
      "Input \u001b[0;32mIn [59]\u001b[0m, in \u001b[0;36m<cell line: 2>\u001b[0;34m()\u001b[0m\n\u001b[1;32m      1\u001b[0m \u001b[38;5;28;01mfrom\u001b[39;00m \u001b[38;5;21;01mscipy\u001b[39;00m \u001b[38;5;28;01mimport\u001b[39;00m stats\n\u001b[0;32m----> 2\u001b[0m \u001b[43mstats\u001b[49m\u001b[38;5;241;43m.\u001b[39;49m\u001b[43mchisquare\u001b[49m\u001b[43m(\u001b[49m\n\u001b[1;32m      3\u001b[0m \u001b[43m    \u001b[49m\u001b[43mf_obs\u001b[49m\u001b[38;5;241;43m=\u001b[39;49m\u001b[43m[\u001b[49m\u001b[38;5;241;43m31\u001b[39;49m\u001b[43m,\u001b[49m\u001b[38;5;241;43m16\u001b[39;49m\u001b[43m,\u001b[49m\u001b[38;5;241;43m14\u001b[39;49m\u001b[43m,\u001b[49m\u001b[38;5;241;43m15\u001b[39;49m\u001b[43m,\u001b[49m\u001b[38;5;241;43m13\u001b[39;49m\u001b[43m,\u001b[49m\u001b[38;5;241;43m22\u001b[39;49m\u001b[43m,\u001b[49m\u001b[38;5;241;43m29\u001b[39;49m\u001b[43m]\u001b[49m\u001b[43m,\u001b[49m\n\u001b[1;32m      4\u001b[0m \u001b[43m    \u001b[49m\u001b[43mf_exp\u001b[49m\u001b[38;5;241;43m=\u001b[39;49m\u001b[43m[\u001b[49m\u001b[38;5;241;43m30\u001b[39;49m\u001b[43m,\u001b[49m\u001b[38;5;241;43m15\u001b[39;49m\u001b[43m,\u001b[49m\u001b[38;5;241;43m15\u001b[39;49m\u001b[43m,\u001b[49m\u001b[38;5;241;43m15\u001b[39;49m\u001b[43m,\u001b[49m\u001b[38;5;241;43m15\u001b[39;49m\u001b[43m,\u001b[49m\u001b[38;5;241;43m20\u001b[39;49m\u001b[43m,\u001b[49m\u001b[38;5;241;43m40\u001b[39;49m\u001b[43m]\u001b[49m\n\u001b[1;32m      5\u001b[0m \u001b[43m)\u001b[49m\n",
      "File \u001b[0;32m/opt/conda/lib/python3.9/site-packages/scipy/stats/_stats_py.py:6911\u001b[0m, in \u001b[0;36mchisquare\u001b[0;34m(f_obs, f_exp, ddof, axis)\u001b[0m\n\u001b[1;32m   6787\u001b[0m \u001b[38;5;28;01mdef\u001b[39;00m \u001b[38;5;21mchisquare\u001b[39m(f_obs, f_exp\u001b[38;5;241m=\u001b[39m\u001b[38;5;28;01mNone\u001b[39;00m, ddof\u001b[38;5;241m=\u001b[39m\u001b[38;5;241m0\u001b[39m, axis\u001b[38;5;241m=\u001b[39m\u001b[38;5;241m0\u001b[39m):\n\u001b[1;32m   6788\u001b[0m     \u001b[38;5;124;03m\"\"\"Calculate a one-way chi-square test.\u001b[39;00m\n\u001b[1;32m   6789\u001b[0m \n\u001b[1;32m   6790\u001b[0m \u001b[38;5;124;03m    The chi-square test tests the null hypothesis that the categorical data\u001b[39;00m\n\u001b[0;32m   (...)\u001b[0m\n\u001b[1;32m   6909\u001b[0m \n\u001b[1;32m   6910\u001b[0m \u001b[38;5;124;03m    \"\"\"\u001b[39;00m\n\u001b[0;32m-> 6911\u001b[0m     \u001b[38;5;28;01mreturn\u001b[39;00m \u001b[43mpower_divergence\u001b[49m\u001b[43m(\u001b[49m\u001b[43mf_obs\u001b[49m\u001b[43m,\u001b[49m\u001b[43m \u001b[49m\u001b[43mf_exp\u001b[49m\u001b[38;5;241;43m=\u001b[39;49m\u001b[43mf_exp\u001b[49m\u001b[43m,\u001b[49m\u001b[43m \u001b[49m\u001b[43mddof\u001b[49m\u001b[38;5;241;43m=\u001b[39;49m\u001b[43mddof\u001b[49m\u001b[43m,\u001b[49m\u001b[43m \u001b[49m\u001b[43maxis\u001b[49m\u001b[38;5;241;43m=\u001b[39;49m\u001b[43maxis\u001b[49m\u001b[43m,\u001b[49m\n\u001b[1;32m   6912\u001b[0m \u001b[43m                            \u001b[49m\u001b[43mlambda_\u001b[49m\u001b[38;5;241;43m=\u001b[39;49m\u001b[38;5;124;43m\"\u001b[39;49m\u001b[38;5;124;43mpearson\u001b[39;49m\u001b[38;5;124;43m\"\u001b[39;49m\u001b[43m)\u001b[49m\n",
      "File \u001b[0;32m/opt/conda/lib/python3.9/site-packages/scipy/stats/_stats_py.py:6753\u001b[0m, in \u001b[0;36mpower_divergence\u001b[0;34m(f_obs, f_exp, ddof, axis, lambda_)\u001b[0m\n\u001b[1;32m   6747\u001b[0m     \u001b[38;5;28;01mif\u001b[39;00m diff_gt_tol:\n\u001b[1;32m   6748\u001b[0m         msg \u001b[38;5;241m=\u001b[39m (\u001b[38;5;124mf\u001b[39m\u001b[38;5;124m\"\u001b[39m\u001b[38;5;124mFor each axis slice, the sum of the observed \u001b[39m\u001b[38;5;124m\"\u001b[39m\n\u001b[1;32m   6749\u001b[0m                \u001b[38;5;124mf\u001b[39m\u001b[38;5;124m\"\u001b[39m\u001b[38;5;124mfrequencies must agree with the sum of the \u001b[39m\u001b[38;5;124m\"\u001b[39m\n\u001b[1;32m   6750\u001b[0m                \u001b[38;5;124mf\u001b[39m\u001b[38;5;124m\"\u001b[39m\u001b[38;5;124mexpected frequencies to a relative tolerance \u001b[39m\u001b[38;5;124m\"\u001b[39m\n\u001b[1;32m   6751\u001b[0m                \u001b[38;5;124mf\u001b[39m\u001b[38;5;124m\"\u001b[39m\u001b[38;5;124mof \u001b[39m\u001b[38;5;132;01m{\u001b[39;00mrtol\u001b[38;5;132;01m}\u001b[39;00m\u001b[38;5;124m, but the percent differences are:\u001b[39m\u001b[38;5;130;01m\\n\u001b[39;00m\u001b[38;5;124m\"\u001b[39m\n\u001b[1;32m   6752\u001b[0m                \u001b[38;5;124mf\u001b[39m\u001b[38;5;124m\"\u001b[39m\u001b[38;5;132;01m{\u001b[39;00mrelative_diff\u001b[38;5;132;01m}\u001b[39;00m\u001b[38;5;124m\"\u001b[39m)\n\u001b[0;32m-> 6753\u001b[0m         \u001b[38;5;28;01mraise\u001b[39;00m \u001b[38;5;167;01mValueError\u001b[39;00m(msg)\n\u001b[1;32m   6755\u001b[0m \u001b[38;5;28;01melse\u001b[39;00m:\n\u001b[1;32m   6756\u001b[0m     \u001b[38;5;66;03m# Ignore 'invalid' errors so the edge case of a data set with length 0\u001b[39;00m\n\u001b[1;32m   6757\u001b[0m     \u001b[38;5;66;03m# is handled without spurious warnings.\u001b[39;00m\n\u001b[1;32m   6758\u001b[0m     \u001b[38;5;28;01mwith\u001b[39;00m np\u001b[38;5;241m.\u001b[39merrstate(invalid\u001b[38;5;241m=\u001b[39m\u001b[38;5;124m'\u001b[39m\u001b[38;5;124mignore\u001b[39m\u001b[38;5;124m'\u001b[39m):\n",
      "\u001b[0;31mValueError\u001b[0m: For each axis slice, the sum of the observed frequencies must agree with the sum of the expected frequencies to a relative tolerance of 1e-08, but the percent differences are:\n0.07142857142857142"
     ]
    }
   ],
   "source": [
    "from scipy import stats\n",
    "stats.chisquare(\n",
    "    f_obs=[31,16,14,15,13,22,29],\n",
    "    f_exp=[30,15,15,15,15,20,40]\n",
    ")"
   ]
  },
  {
   "cell_type": "code",
   "execution_count": 4,
   "id": "65b96fa8-291b-48fd-8f38-9185cd610ba4",
   "metadata": {},
   "outputs": [
    {
     "data": {
      "text/plain": [
       "15.747366679841289"
      ]
     },
     "execution_count": 4,
     "metadata": {},
     "output_type": "execute_result"
    }
   ],
   "source": [
    "import numpy as np\n",
    "x_1 = [15,18,17,18,19,17,16,20,19,14]\n",
    "x_2 = [17,20,15,18,16,15,17,18]\n",
    "s_1 = np.var(x_1,ddof=1)\n",
    "s_2 = np.var(x_2,ddof=1)\n",
    "n_1 = len(x_1)\n",
    "n_2 = len(x_2)\n",
    "nu = (s_1 / n_1 + s_2 / n_2) ** 2 / ((s_1 / n_1) ** 2 / (n_1 - 1) + (s_2 / n_2) ** 2 / (n_2 - 1))\n",
    "nu"
   ]
  },
  {
   "cell_type": "code",
   "execution_count": 6,
   "id": "75bdcf13-49a3-4d05-a8bb-9fb823db6a65",
   "metadata": {},
   "outputs": [
    {
     "data": {
      "text/plain": [
       "1.74588367627624"
      ]
     },
     "execution_count": 6,
     "metadata": {},
     "output_type": "execute_result"
    }
   ],
   "source": [
    "from scipy.stats import t\n",
    "t.ppf(0.95,16)"
   ]
  },
  {
   "cell_type": "code",
   "execution_count": 7,
   "id": "d72307cc-f40d-4b54-9137-ea48b639272a",
   "metadata": {},
   "outputs": [
    {
     "data": {
      "text/plain": [
       "0.3550831677753239"
      ]
     },
     "execution_count": 7,
     "metadata": {},
     "output_type": "execute_result"
    }
   ],
   "source": [
    "from scipy.stats import t\n",
    "t.ppf(0.95,16)\n",
    "m_1 = np.mean(x_1)\n",
    "m_2 = np.mean(x_2)\n",
    "t = (m_1 - m_2) / np.sqrt(s_1 / n_1 + s_2 / n_2)\n",
    "t"
   ]
  },
  {
   "cell_type": "code",
   "execution_count": 8,
   "id": "407d4832-429a-4e01-ac49-f6919fae0f67",
   "metadata": {},
   "outputs": [
    {
     "data": {
      "text/plain": [
       "Ttest_indResult(statistic=0.3550831677753239, pvalue=0.7272383789635237)"
      ]
     },
     "execution_count": 8,
     "metadata": {},
     "output_type": "execute_result"
    }
   ],
   "source": [
    "from scipy import stats\n",
    "x_1 = [15,18,17,18,19,17,16,20,19,14]\n",
    "x_2 = [17,20,15,18,16,15,17,18]\n",
    "stats.ttest_ind(x_1,x_2,equal_var = False)"
   ]
  },
  {
   "cell_type": "code",
   "execution_count": 9,
   "id": "6130ba4a-aeab-4a35-9e8e-4c64d92053c7",
   "metadata": {},
   "outputs": [
    {
     "data": {
      "text/plain": [
       "F_onewayResult(statistic=25.50361445783133, pvalue=5.589864152539778e-06)"
      ]
     },
     "execution_count": 9,
     "metadata": {},
     "output_type": "execute_result"
    }
   ],
   "source": [
    "from scipy import stats\n",
    "a = [36,40,38,42,45,43,39]\n",
    "b = [42,40,48,35,37,38,43]\n",
    "c = [51,58,56,52,49,50,51]\n",
    "stats.f_oneway(a,b,c)"
   ]
  },
  {
   "cell_type": "code",
   "execution_count": 12,
   "id": "cef25520-a3ed-45f3-b3b9-02edab289ec3",
   "metadata": {},
   "outputs": [
    {
     "name": "stdout",
     "output_type": "stream",
     "text": [
      "y = 5.572x + -13.054\n"
     ]
    }
   ],
   "source": [
    "from sklearn.linear_model import LinearRegression\n",
    "x = [[15],[21],[22],[24],[25],[27],[28],[29],[30]]\n",
    "y = [80,100,95,120,128,140,141,150,160]\n",
    "model_lr = LinearRegression()\n",
    "model_lr.fit(x,y)\n",
    "print('y = %.03fx + %.03f' % (model_lr.coef_,model_lr.intercept_))"
   ]
  },
  {
   "cell_type": "code",
   "execution_count": 13,
   "id": "8ed44be4-eb59-4a5a-985e-2294234fdef6",
   "metadata": {},
   "outputs": [
    {
     "data": {
      "image/png": "[encoded data removed]",
      "text/plain": [
       "<Figure size 432x288 with 1 Axes>"
      ]
     },
     "metadata": {
      "needs_background": "light"
     },
     "output_type": "display_data"
    }
   ],
   "source": [
    "import matplotlib.pyplot as plt\n",
    "plt.plot(x,y,'o')\n",
    "plt.plot(x,model_lr.predict(x),linestyle='solid')\n",
    "plt.show()"
   ]
  },
  {
   "cell_type": "code",
   "execution_count": 14,
   "id": "d58eb192-eb8c-4bb2-bf32-a755b1cfa3cd",
   "metadata": {},
   "outputs": [
    {
     "data": {
      "text/plain": [
       "0.9377073658062173"
      ]
     },
     "execution_count": 14,
     "metadata": {},
     "output_type": "execute_result"
    }
   ],
   "source": [
    "model_lr.score(x,y)"
   ]
  },
  {
   "cell_type": "code",
   "execution_count": 15,
   "id": "8e0bf250-1629-4c39-87c7-e4c94873ab36",
   "metadata": {},
   "outputs": [
    {
     "data": {
      "text/plain": [
       "[5.572319201995013, -13.05361596009979]"
      ]
     },
     "execution_count": 15,
     "metadata": {},
     "output_type": "execute_result"
    }
   ],
   "source": [
    "x = [15,21,22,24,25,27,28,29,30]\n",
    "y = [80,100,95,120,128,140,141,150,160]\n",
    "x_mean = sum(x)/len(x)\n",
    "y_mean = sum(y)/len(y)\n",
    "sum_xy = sum([(i - x_mean) * (j - y_mean) for (i,j) in zip(x,y)])\n",
    "sum_xx = sum([(i - x_mean) ** 2 for i in x])\n",
    "a = sum_xy / sum_xx\n",
    "b = y_mean - a * x_mean\n",
    "[a,b]"
   ]
  },
  {
   "cell_type": "code",
   "execution_count": 21,
   "id": "808d9047-f8cd-4751-9387-b9a3c306c050",
   "metadata": {},
   "outputs": [
    {
     "data": {
      "text/plain": [
       "0.9376000416462702"
      ]
     },
     "execution_count": 21,
     "metadata": {},
     "output_type": "execute_result"
    }
   ],
   "source": [
    "def f(x):\n",
    "    return 5.572 * x + -13.054\n",
    "x = [15,21,22,24,25,27,28,29,30]\n",
    "y = [80,100,95,120,128,140,141,150,160]\n",
    "mean_y = sum(y)/len(y)\n",
    "sum_data = sum([(i - mean_y) ** 2 for i in y])\n",
    "sum_predict = sum([(f(i) - mean_y) ** 2 for i in x])\n",
    "sum_predict / sum_data"
   ]
  },
  {
   "cell_type": "code",
   "execution_count": 23,
   "id": "00c99313-b6e5-403b-a02a-a08575aff0c3",
   "metadata": {},
   "outputs": [
    {
     "name": "stdout",
     "output_type": "stream",
     "text": [
      "[array([-5.11176275e-04, -6.16865464e+00]), 157.16539794318925]\n"
     ]
    }
   ],
   "source": [
    "from sklearn.linear_model import LinearRegression\n",
    "data = [\n",
    "    [31438,3],[13845,3],[43095,5],[40946,4],\n",
    "    [82375,5],[78764,6],[90554,7],[69142,8],\n",
    "    [23712,5],[51489,6],[60023,10],[80123,2]\n",
    "]\n",
    "price = [125,140,98,113,65,70,55,80,95,88,90,132]\n",
    "model_lr = LinearRegression()\n",
    "model_lr.fit(data,price)\n",
    "print([model_lr.coef_,model_lr.intercept_])"
   ]
  },
  {
   "cell_type": "code",
   "execution_count": 24,
   "id": "9b4e9964-b933-454a-9b1e-370ef47758ab",
   "metadata": {},
   "outputs": [
    {
     "data": {
      "text/plain": [
       "0.6726282968792637"
      ]
     },
     "execution_count": 24,
     "metadata": {},
     "output_type": "execute_result"
    }
   ],
   "source": [
    "model_lr.score(data,price)"
   ]
  },
  {
   "cell_type": "code",
   "execution_count": 25,
   "id": "7fc8f633-dd64-4f44-8c82-4dbf6f4c4820",
   "metadata": {},
   "outputs": [
    {
     "data": {
      "text/plain": [
       "0.5998790295191001"
      ]
     },
     "execution_count": 25,
     "metadata": {},
     "output_type": "execute_result"
    }
   ],
   "source": [
    "r = model_lr.score(data,price)\n",
    "1 - (1 - r) * (len(price) - 1) / (len(price) - len(data[0]) - 1)"
   ]
  },
  {
   "cell_type": "code",
   "execution_count": 27,
   "id": "e7e0afab-ea62-4f9a-88ac-bb072fcb6bb7",
   "metadata": {},
   "outputs": [
    {
     "data": {
      "text/plain": [
       "0.9"
      ]
     },
     "execution_count": 27,
     "metadata": {},
     "output_type": "execute_result"
    }
   ],
   "source": [
    "import pandas as pd\n",
    "from sklearn.linear_model import LogisticRegression\n",
    "df = pd.DataFrame([\n",
    "    [ 1 , 25.0 , 80 , 5 ],\n",
    "    [ 1 , 27.1 , 65 , 3 ],\n",
    "    [ 1 , 28.2 , 64 , 6 ],\n",
    "    [ 1 , 32.3 , 72 , 4 ],\n",
    "    [ 1 , 33.8 , 82 , 4 ],\n",
    "    [ 0 , 25.3 , 45 , 2 ],\n",
    "    [ 0 , 24.7 , 52 , 1 ],\n",
    "    [ 0 , 26.3 , 60 , 3 ],\n",
    "    [ 0 , 28.2 , 70 , 1 ],\n",
    "    [ 0 , 27.6 , 49 , 4 ]\n",
    "])\n",
    "df.columns = ['malfunction','temprature','humidity','frequency']\n",
    "x_train = df[['temprature','humidity','frequency']]\n",
    "y_train = df['malfunction']\n",
    "model = LogisticRegression(solver='liblinear')\n",
    "model.fit(x_train,y_train)\n",
    "model.score(x_train,y_train)"
   ]
  },
  {
   "cell_type": "code",
   "execution_count": 28,
   "id": "88b510f7-5345-42a8-b80a-290b769e8e45",
   "metadata": {},
   "outputs": [
    {
     "data": {
      "text/plain": [
       "[array([[-0.60010082,  0.21984   ,  0.99500508]]), array([-0.15941032])]"
      ]
     },
     "execution_count": 28,
     "metadata": {},
     "output_type": "execute_result"
    }
   ],
   "source": [
    "[model.coef_,model.intercept_]"
   ]
  },
  {
   "cell_type": "code",
   "execution_count": null,
   "id": "1d37fd58-5b1d-4d67-8ded-40e1b10435f0",
   "metadata": {},
   "outputs": [],
   "source": []
  }
 ],
 "metadata": {
  "kernelspec": {
   "display_name": "Python 3 (ipykernel)",
   "language": "python",
   "name": "python3"
  },
  "language_info": {
   "codemirror_mode": {
    "name": "ipython",
    "version": 3
   },
   "file_extension": ".py",
   "mimetype": "text/x-python",
   "name": "python",
   "nbconvert_exporter": "python",
   "pygments_lexer": "ipython3",
   "version": "3.9.10"
  }
 },
 "nbformat": 4,
 "nbformat_minor": 5
}
